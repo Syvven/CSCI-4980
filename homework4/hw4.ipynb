{
  "cells": [
    {
      "cell_type": "markdown",
      "metadata": {
        "id": "GLhyw8mFlyMw"
      },
      "source": [
        "# **CSCI4980 HW4 -- Image Classification**"
      ]
    },
    {
      "cell_type": "markdown",
      "metadata": {
        "id": "f8ZGOraKlyMy"
      },
      "source": [
        "## Imports"
      ]
    },
    {
      "cell_type": "code",
      "execution_count": 1,
      "metadata": {
        "colab": {
          "base_uri": "https://localhost:8080/"
        },
        "id": "zTPdtip0lyMy",
        "outputId": "6ca70eb2-47a8-43c5-e550-8094bec7d01a"
      },
      "outputs": [
        {
          "name": "stdout",
          "output_type": "stream",
          "text": [
            "Is CUDA supported by this system? True\n"
          ]
        }
      ],
      "source": [
        "import numpy as np\n",
        "\n",
        "import torch\n",
        "import torch.nn as nn\n",
        "\n",
        "import torchvision\n",
        "from torchvision.transforms import Compose, ToTensor, Normalize\n",
        "from torch.utils.data import Subset\n",
        "\n",
        "print(f\"Is CUDA supported by this system? {torch.cuda.is_available()}\")\n",
        "DEVICE = 'cuda:0' if torch.cuda.is_available() else 'cpu'"
      ]
    },
    {
      "cell_type": "markdown",
      "metadata": {
        "id": "Zt1q-YwzlyMz"
      },
      "source": [
        "## Download and Split Data"
      ]
    },
    {
      "cell_type": "code",
      "execution_count": 2,
      "metadata": {
        "id": "oGZ83M7olyMz"
      },
      "outputs": [],
      "source": [
        "# This is code from a 5525 homework to download and split MNIST\n",
        "\n",
        "def load_MNIST(batch_size, normalize_vals):\n",
        "\n",
        "    # for correctly download the dataset using torchvision, do not change!\n",
        "    from six.moves import urllib\n",
        "    opener = urllib.request.build_opener()\n",
        "    opener.addheaders = [('User-agent', 'Mozilla/5.0')]\n",
        "    urllib.request.install_opener(opener)\n",
        "\n",
        "    norm1_val, norm2_val = normalize_vals\n",
        "\n",
        " #   transforms = Compose([ToTensor()])\n",
        "    transforms = Compose([ToTensor(), Normalize((norm1_val,), (norm2_val,))])\n",
        "\n",
        "\n",
        "    train_dataset = torchvision.datasets.MNIST(root='MNIST-data',\n",
        "                                               train=True,\n",
        "                                               download=True,\n",
        "                                               transform=transforms)\n",
        "\n",
        "    test_dataset = torchvision.datasets.MNIST(root='MNIST-data', \n",
        "                                              train=False,\n",
        "                                              transform=transforms)\n",
        "\n",
        "\n",
        "    train_loader = torch.utils.data.DataLoader(dataset=train_dataset,\n",
        "                                               batch_size=batch_size,\n",
        "                                               shuffle=False)\n",
        "\n",
        "\n",
        "    test_loader = torch.utils.data.DataLoader(dataset=test_dataset,\n",
        "                                              batch_size=batch_size,\n",
        "                                              shuffle=False)\n",
        "\n",
        "    return train_dataset, test_dataset, train_loader, test_loader\n",
        "\n",
        "def convert_data_to_numpy(dataset):\n",
        "    X = []\n",
        "    y = []\n",
        "    for i in range(len(dataset)):\n",
        "        X.append(dataset[i][0][0].flatten().numpy())# flatten it to 1d vector\n",
        "        y.append(dataset[i][1])\n",
        "\n",
        "    X = np.array(X)\n",
        "    y = np.array(y)\n",
        "\n",
        "    return X, y"
      ]
    },
    {
      "cell_type": "code",
      "execution_count": 3,
      "metadata": {
        "colab": {
          "base_uri": "https://localhost:8080/",
          "height": 429,
          "referenced_widgets": [
            "0b77c9fd35304fcba22fa767e869deb4",
            "a8cce20c2fb94008b97285aabb717d66",
            "e713d135b8754ca29734d22c61712dba",
            "c9b2844419564a3abddd81fbe38af0e1",
            "ba59fe3f1b5e4a1cafc40e5285ffd0ff",
            "f02bc9fdf96d48cca86bc23ef2dd5756",
            "cb260cd1465c4b0d815617aed550d85a",
            "850b7fb7640741479a7defe6cac82f19",
            "c1736306f04046b5812c369d02b21c23",
            "3ea6489b6ca84fc7acb4427e1e1465ae",
            "64c2590bda5d4e23a9d0db462474447e",
            "397bbd2d8bd648068b81b8aec1168816",
            "1e8a087122974a76bf931cb80e4efbd8",
            "b9073389fa6a41c6bdf623dffc2b7179",
            "025210af0d0a46a9b36f74d6d9bd2a44",
            "4625a5272fde4754a991c5e7c635830c",
            "4021c77fc23c43adb5a5e610d7de333f",
            "22f4312a98e045469b079ac32d4d061a",
            "11e0577a09b845a18a2e8b8a46a08dfc",
            "852fa96e234c41caa5cae294f3e27327",
            "2ac77ea5ba004de98b3f2d4e9346ca90",
            "6181661712114d4baa4b6b7329809299",
            "f2214833eb504c6096f51c429b6e1559",
            "b420816609c24c54ad1c930387053b62",
            "7727dead158e401cae755fb9706a6a71",
            "9812b242361244159bd0fc308fe09e14",
            "0d551b9cd0084b3cb56b2c49a0c6d576",
            "d9d5d4ad020f4728b3e2cdef43ea0166",
            "b8ba7e15be7846d690b1b54dc3fef625",
            "854152ac8c9141478404fdbcbac5e8e8",
            "95866c6f10bf47d29531b1e2d739d1ac",
            "9eb4a00d70ca4f83b39055dba35ae9b9",
            "3c421607647b4b44b78104390a2cf119",
            "13e5fd776ad9478cbf2668a8c3d5ac0b",
            "9a30781f9ea9463d9762c0250821f766",
            "7182f3aec8a245c1bac5eb8d341d7dcc",
            "4d393d67c53b4fdbb10927136915ffca",
            "5c471c7411a94ebaaf86d7c529993eea",
            "4c350cb165ac472f92280fe95f0c5071",
            "cb86bd72e14d4783a38afd9fa8b39d9a",
            "767fac3b863c419bbade55c5e6973a89",
            "6c7aba21a1df41eaa4bf3e6a13f141b8",
            "056bac4f6781480cb98a567cf1725a84",
            "fc7a10343f1e4c129f913c2273ac6bde"
          ]
        },
        "id": "eSNjKe5YlyM0",
        "outputId": "9b423f3c-0209-4bff-f43a-ec8ab624eb15"
      },
      "outputs": [
        {
          "name": "stdout",
          "output_type": "stream",
          "text": [
            "Downloading http://yann.lecun.com/exdb/mnist/train-images-idx3-ubyte.gz\n",
            "Downloading http://yann.lecun.com/exdb/mnist/train-images-idx3-ubyte.gz to MNIST-data/MNIST/raw/train-images-idx3-ubyte.gz\n"
          ]
        },
        {
          "data": {
            "application/vnd.jupyter.widget-view+json": {
              "model_id": "0b77c9fd35304fcba22fa767e869deb4",
              "version_major": 2,
              "version_minor": 0
            },
            "text/plain": [
              "  0%|          | 0/9912422 [00:00<?, ?it/s]"
            ]
          },
          "metadata": {},
          "output_type": "display_data"
        },
        {
          "name": "stdout",
          "output_type": "stream",
          "text": [
            "Extracting MNIST-data/MNIST/raw/train-images-idx3-ubyte.gz to MNIST-data/MNIST/raw\n",
            "\n",
            "Downloading http://yann.lecun.com/exdb/mnist/train-labels-idx1-ubyte.gz\n",
            "Downloading http://yann.lecun.com/exdb/mnist/train-labels-idx1-ubyte.gz to MNIST-data/MNIST/raw/train-labels-idx1-ubyte.gz\n"
          ]
        },
        {
          "data": {
            "application/vnd.jupyter.widget-view+json": {
              "model_id": "397bbd2d8bd648068b81b8aec1168816",
              "version_major": 2,
              "version_minor": 0
            },
            "text/plain": [
              "  0%|          | 0/28881 [00:00<?, ?it/s]"
            ]
          },
          "metadata": {},
          "output_type": "display_data"
        },
        {
          "name": "stdout",
          "output_type": "stream",
          "text": [
            "Extracting MNIST-data/MNIST/raw/train-labels-idx1-ubyte.gz to MNIST-data/MNIST/raw\n",
            "\n",
            "Downloading http://yann.lecun.com/exdb/mnist/t10k-images-idx3-ubyte.gz\n",
            "Downloading http://yann.lecun.com/exdb/mnist/t10k-images-idx3-ubyte.gz to MNIST-data/MNIST/raw/t10k-images-idx3-ubyte.gz\n"
          ]
        },
        {
          "data": {
            "application/vnd.jupyter.widget-view+json": {
              "model_id": "f2214833eb504c6096f51c429b6e1559",
              "version_major": 2,
              "version_minor": 0
            },
            "text/plain": [
              "  0%|          | 0/1648877 [00:00<?, ?it/s]"
            ]
          },
          "metadata": {},
          "output_type": "display_data"
        },
        {
          "name": "stdout",
          "output_type": "stream",
          "text": [
            "Extracting MNIST-data/MNIST/raw/t10k-images-idx3-ubyte.gz to MNIST-data/MNIST/raw\n",
            "\n",
            "Downloading http://yann.lecun.com/exdb/mnist/t10k-labels-idx1-ubyte.gz\n",
            "Downloading http://yann.lecun.com/exdb/mnist/t10k-labels-idx1-ubyte.gz to MNIST-data/MNIST/raw/t10k-labels-idx1-ubyte.gz\n"
          ]
        },
        {
          "data": {
            "application/vnd.jupyter.widget-view+json": {
              "model_id": "13e5fd776ad9478cbf2668a8c3d5ac0b",
              "version_major": 2,
              "version_minor": 0
            },
            "text/plain": [
              "  0%|          | 0/4542 [00:00<?, ?it/s]"
            ]
          },
          "metadata": {},
          "output_type": "display_data"
        },
        {
          "name": "stdout",
          "output_type": "stream",
          "text": [
            "Extracting MNIST-data/MNIST/raw/t10k-labels-idx1-ubyte.gz to MNIST-data/MNIST/raw\n",
            "\n"
          ]
        }
      ],
      "source": [
        "np.random.seed(2023)\n",
        "\n",
        "batch_size = 32\n",
        "\n",
        "normalize_vals = (0.1307, 0.3081)\n",
        "\n",
        "# load MNIST dataset\n",
        "train_dataset, test_dataset, train_loader, test_loader = load_MNIST(batch_size, normalize_vals)"
      ]
    },
    {
      "cell_type": "code",
      "execution_count": 4,
      "metadata": {
        "colab": {
          "base_uri": "https://localhost:8080/"
        },
        "id": "3pwdnDgElyM0",
        "outputId": "1c75dad7-1637-419d-ca1a-39377463ab7c"
      },
      "outputs": [
        {
          "name": "stdout",
          "output_type": "stream",
          "text": [
            "Dataset MNIST\n",
            "    Number of datapoints: 60000\n",
            "    Root location: MNIST-data\n",
            "    Split: Train\n",
            "    StandardTransform\n",
            "Transform: Compose(\n",
            "               ToTensor()\n",
            "               Normalize(mean=(0.1307,), std=(0.3081,))\n",
            "           )\n",
            "Dataset MNIST\n",
            "    Number of datapoints: 10000\n",
            "    Root location: MNIST-data\n",
            "    Split: Test\n",
            "    StandardTransform\n",
            "Transform: Compose(\n",
            "               ToTensor()\n",
            "               Normalize(mean=(0.1307,), std=(0.3081,))\n",
            "           )\n"
          ]
        }
      ],
      "source": [
        "print(train_dataset)\n",
        "print(test_dataset)"
      ]
    },
    {
      "cell_type": "markdown",
      "metadata": {
        "id": "4QFWOJjxlyM0"
      },
      "source": [
        "## **Problem \\#1: Logistic Regression**"
      ]
    },
    {
      "cell_type": "markdown",
      "metadata": {
        "id": "EqDaqekd0CKE"
      },
      "source": [
        "### Model"
      ]
    },
    {
      "cell_type": "code",
      "execution_count": 5,
      "metadata": {
        "id": "ubNgbKSHlyM0"
      },
      "outputs": [],
      "source": [
        "class LogisticRegressor(nn.Module):\n",
        "    def __init__(self, device, in_dims, out_dims, lr=0.01, epochs=10):\n",
        "        super(LogisticRegressor, self).__init__()\n",
        "\n",
        "        self.device = device\n",
        "\n",
        "        self.seq = nn.Sequential(\n",
        "            nn.Linear(\n",
        "                in_features=in_dims,\n",
        "                out_features=out_dims\n",
        "            ),\n",
        "            nn.Sigmoid()\n",
        "        )\n",
        "        self.max_epochs = epochs\n",
        "        self.in_dims = in_dims\n",
        "        self.out_dims = out_dims\n",
        "        self.criterion = nn.BCELoss()\n",
        "        self.optimizer = torch.optim.SGD(\n",
        "            self.parameters(),\n",
        "            lr=lr\n",
        "        )\n",
        "\n",
        "    def forward(self, X):\n",
        "        X = X.view(-1, self.in_dims)\n",
        "        return self.seq(X).flatten().double()\n",
        "\n",
        "    def train(self, train_loader):\n",
        "        train_set, valid_set = torch.utils.data.random_split(\n",
        "            train_loader.dataset,\n",
        "            [0.7, 0.3], \n",
        "            generator=torch.Generator().manual_seed(42)\n",
        "        )\n",
        "\n",
        "        train_loader_v2 = torch.utils.data.DataLoader(\n",
        "            train_set, batch_size=32, shuffle=True\n",
        "        )\n",
        "\n",
        "        valid_loader = torch.utils.data.DataLoader(\n",
        "            valid_set, batch_size=32, shuffle=False\n",
        "        )\n",
        "\n",
        "        print(\"--------Training Model--------\")\n",
        "        # Epoch loop\n",
        "        break_count = 0\n",
        "        max_break_count = 5\n",
        "        min_err = 9e15\n",
        "        for i in range(self.max_epochs):\n",
        "            total_loss = 0\n",
        "            total_err = 0\n",
        "            total_samples = 0\n",
        "            # Mini batch loop\n",
        "            for j,(images,labels) in enumerate(train_loader_v2):\n",
        "                yact = torch.zeros_like(labels).double().to(self.device)\n",
        "                yact[labels == 3] = 1.0\n",
        "                yact[labels == 7] = 1.0\n",
        "                yact[labels == 8] = 1.0\n",
        "                yact.requires_grad_()\n",
        "\n",
        "                images = images.to(DEVICE)\n",
        "\n",
        "                # Forward pass (consider the recommmended functions in homework writeup)\n",
        "                yhat = self.forward(images)\n",
        "\n",
        "                # Backward pass and optimize (consider the recommmended functions in homework writeup)\n",
        "                # Make sure to zero out the gradients using optimizer.zero_grad() in each loop\n",
        "                # Track the loss and error rate\n",
        "                loss = self.criterion(yhat, yact)\n",
        "                total_loss += loss.item() \n",
        "\n",
        "                loss.backward()\n",
        "                self.optimizer.step()\n",
        "\n",
        "                # measure error rate\n",
        "                y_sum = yact.detach().long()\n",
        "                yhat_sum = torch.where(yhat >= 0.5, 1, 0).to(self.device)\n",
        "                total_err += torch.sum(yhat_sum != y_sum)\n",
        "\n",
        "                total_samples += images.shape[0]\n",
        "\n",
        "                # total_samples += images.shape[0]\n",
        "                \n",
        "                self.zero_grad()\n",
        "\n",
        "            train_err = total_err / total_samples\n",
        "\n",
        "            print(f\"[{i}] Loss: {total_loss}, Error Rate: {train_err}\")\n",
        "            \n",
        "            # training step done, now validate\n",
        "\n",
        "            total_err = 0\n",
        "            total_samples = 0\n",
        "            with torch.no_grad(): # no backprop step so turn off gradients\n",
        "                for j,(images,labels) in enumerate(valid_loader):\n",
        "                    yact = torch.zeros_like(labels).to(self.device)\n",
        "                    yact[labels == 3] = 1\n",
        "                    yact[labels == 7] = 1\n",
        "                    yact[labels == 8] = 1\n",
        "\n",
        "                    images = images.to(DEVICE)\n",
        "\n",
        "                    # Compute prediction output and loss\n",
        "                    yhat = self.forward(images)\n",
        "            \n",
        "                    # measure error rate\n",
        "                    y_sum = yact.detach().long().to(self.device)\n",
        "                    yhat_sum = torch.where(yhat >= 0.5, 1, 0)\n",
        "                    total_err += torch.sum(yhat_sum != y_sum)\n",
        "\n",
        "                    total_samples += images.shape[0]\n",
        "            valid_err = total_err/total_samples\n",
        "\n",
        "            # save best model\n",
        "            if (valid_err < min_err): \n",
        "                min_err = valid_err\n",
        "                break_count = 0\n",
        "\n",
        "            print(f\"[{i}] Validation Error Rate: {valid_err}, Best Validation Error Rate: {min_err}\\n\")\n",
        "\n",
        "            # break and load best model if overfitting\n",
        "            if (valid_err >= min_err):\n",
        "                break_count += 1\n",
        "                if (break_count == max_break_count):\n",
        "                    break\n",
        "\n"
      ]
    },
    {
      "cell_type": "markdown",
      "metadata": {
        "id": "wBI_-Lu20EI1"
      },
      "source": [
        "### Training"
      ]
    },
    {
      "cell_type": "code",
      "execution_count": 6,
      "metadata": {
        "id": "-uayBHC6rb_a"
      },
      "outputs": [],
      "source": [
        "# reduce data dimensions a bit\n",
        "train_dataset.targets.shape\n",
        "\n",
        "inds = np.random.permutation(train_dataset.targets.shape[0])\n",
        "inds = inds[:int(train_dataset.targets.shape[0]/2)]\n",
        "\n",
        "train_dataset.data = train_dataset.data[inds]\n",
        "train_dataset.targets = train_dataset.targets[inds]\n",
        "\n",
        "inds = np.arange(30000)\n",
        "\n",
        "train_subset = Subset(train_dataset, inds)\n",
        "train_loader_subset = torch.utils.data.DataLoader(\n",
        "    train_subset, shuffle=True, batch_size=batch_size\n",
        "  )\n"
      ]
    },
    {
      "cell_type": "code",
      "execution_count": 7,
      "metadata": {
        "colab": {
          "base_uri": "https://localhost:8080/"
        },
        "id": "z0h72ImdlyM1",
        "outputId": "26a7f07e-09b1-4437-e6c8-fbf188810e0f"
      },
      "outputs": [
        {
          "name": "stdout",
          "output_type": "stream",
          "text": [
            "--------Training Model--------\n",
            "[0] Loss: 222.01390141340553, Error Rate: 0.14547619223594666\n",
            "[0] Validation Error Rate: 0.13244444131851196, Best Validation Error Rate: 0.13244444131851196\n",
            "\n",
            "[1] Loss: 203.4240321246518, Error Rate: 0.13109523057937622\n",
            "[1] Validation Error Rate: 0.13288888335227966, Best Validation Error Rate: 0.13244444131851196\n",
            "\n",
            "[2] Loss: 200.08542285793462, Error Rate: 0.12771429121494293\n",
            "[2] Validation Error Rate: 0.1317777782678604, Best Validation Error Rate: 0.1317777782678604\n",
            "\n",
            "[3] Loss: 198.97085697407147, Error Rate: 0.12576189637184143\n",
            "[3] Validation Error Rate: 0.1281111091375351, Best Validation Error Rate: 0.1281111091375351\n",
            "\n",
            "[4] Loss: 197.79274611162842, Error Rate: 0.12690475583076477\n",
            "[4] Validation Error Rate: 0.12911111116409302, Best Validation Error Rate: 0.1281111091375351\n",
            "\n",
            "[5] Loss: 196.63718862110574, Error Rate: 0.12619046866893768\n",
            "[5] Validation Error Rate: 0.1322222203016281, Best Validation Error Rate: 0.1281111091375351\n",
            "\n",
            "[6] Loss: 195.69443476901577, Error Rate: 0.12380952388048172\n",
            "[6] Validation Error Rate: 0.12522222101688385, Best Validation Error Rate: 0.12522222101688385\n",
            "\n",
            "[7] Loss: 194.7738650896838, Error Rate: 0.12452381104230881\n",
            "[7] Validation Error Rate: 0.1272222250699997, Best Validation Error Rate: 0.12522222101688385\n",
            "\n",
            "[8] Loss: 194.5118810959052, Error Rate: 0.12304762005805969\n",
            "[8] Validation Error Rate: 0.12622222304344177, Best Validation Error Rate: 0.12522222101688385\n",
            "\n",
            "[9] Loss: 194.41747748050955, Error Rate: 0.12338095158338547\n",
            "[9] Validation Error Rate: 0.1362222284078598, Best Validation Error Rate: 0.12522222101688385\n",
            "\n",
            "[10] Loss: 193.27632700589177, Error Rate: 0.12261904776096344\n",
            "[10] Validation Error Rate: 0.1272222250699997, Best Validation Error Rate: 0.12522222101688385\n",
            "\n"
          ]
        }
      ],
      "source": [
        "logreg = LogisticRegressor(DEVICE, 784, 1, lr=0.01, epochs=100).to(DEVICE)\n",
        "logreg.train(train_loader_subset)"
      ]
    },
    {
      "cell_type": "markdown",
      "metadata": {
        "id": "ImIOEuwk0GcH"
      },
      "source": [
        "### Predicting"
      ]
    },
    {
      "cell_type": "code",
      "execution_count": 8,
      "metadata": {
        "colab": {
          "base_uri": "https://localhost:8080/"
        },
        "id": "4e7jMHvjvkS0",
        "outputId": "b53c4811-45f9-45e0-cd9d-ec43d64746cd"
      },
      "outputs": [
        {
          "name": "stdout",
          "output_type": "stream",
          "text": [
            "0.1252\n"
          ]
        }
      ],
      "source": [
        "total_err = 0\n",
        "total_samples = 0\n",
        "model_preds = torch.tensor([]).to(DEVICE)\n",
        "model_labels = torch.tensor([]).to(DEVICE)\n",
        "with torch.no_grad(): # no backprop step so turn off gradients\n",
        "    for j,(images,labels) in enumerate(test_loader):\n",
        "        yact = torch.zeros_like(labels).to(DEVICE)\n",
        "        yact[labels == 3] = 1\n",
        "        yact[labels == 7] = 1\n",
        "        yact[labels == 8] = 1\n",
        "\n",
        "        images = images.to(DEVICE)\n",
        "\n",
        "        # Compute prediction output and loss\n",
        "        yhat = logreg.forward(images)\n",
        "\n",
        "        model_labels = torch.cat((model_labels, yact))\n",
        "\n",
        "        # measure error rate\n",
        "        y_sum = yact.detach().long().to(DEVICE)\n",
        "        yhat_sum = torch.where(yhat >= 0.5, 1, 0)\n",
        "\n",
        "        model_preds = torch.cat((model_preds, yhat_sum))\n",
        "\n",
        "        total_err += torch.sum(yhat_sum != y_sum).item()\n",
        "\n",
        "        total_samples += images.shape[0]\n",
        "valid_err = total_err/total_samples\n",
        "\n",
        "print(valid_err)"
      ]
    },
    {
      "cell_type": "markdown",
      "metadata": {
        "id": "FmRg3wauz-6y"
      },
      "source": [
        "### Model Justification"
      ]
    },
    {
      "cell_type": "markdown",
      "metadata": {
        "id": "QoSN0e1_0Jv-"
      },
      "source": [
        "In order to train my model, I employed a Linear layer with sigmoid output. <br>\n",
        "First I loaded all data into a dataloader and passed that through to the <br>\n",
        "train function with batch size 32. Each batch was trained on and SGD <br>\n",
        "optimizer was used with a learning rate of 0.01. I have found in the past <br>\n",
        "SGD to be perfectly good on things like this so that's what I used. <br>\n",
        "I used Binary Cross Entropy loss as thats just what I always use on <br>\n",
        "binary problems like this so I figured I'd keep at the trend. I found <br>\n",
        "that training was a little slow, so I randomly permuted the train set and <br>\n",
        "took 30,000 of the samples to train on. Additionally, I split the train set <br>\n",
        "into a train and validation set with a 70/30 split. The validation set was <br>\n",
        "run through the model at the end of every epoch to see if the model was over-<br>fitting on the training data. If the error rate did not improve for <br> 5 consecutive epochs, the training was cut off early. I would have <br>\n",
        "also saved the best models, however, that would not have worked very well in <br>\n",
        "google colab, thus I did not. "
      ]
    },
    {
      "cell_type": "markdown",
      "metadata": {
        "id": "3m1gUOyV1R81"
      },
      "source": [
        "-------------------------------------------------"
      ]
    },
    {
      "cell_type": "markdown",
      "metadata": {
        "id": "0KSrGQeNzswG"
      },
      "source": [
        "## **Problem \\#2 Sklearn Binary Classification and Scores**"
      ]
    },
    {
      "cell_type": "code",
      "execution_count": 9,
      "metadata": {
        "id": "M218_cDM1e_f"
      },
      "outputs": [],
      "source": [
        "from sklearn.ensemble import RandomForestClassifier\n",
        "from sklearn.svm      import SVC\n",
        "from sklearn          import metrics\n",
        "import matplotlib.pyplot as plt\n",
        "\n",
        "train_x = train_dataset.data.view(-1, 784).detach().numpy()\n",
        "data_train_y = train_dataset.targets.detach().numpy()\n",
        "\n",
        "test_x = test_dataset.data.view(-1, 784).detach().numpy()\n",
        "data_test_y = test_dataset.targets.detach().numpy()\n",
        "\n",
        "train_y = np.where(\n",
        "    (data_train_y == 7) | \n",
        "    (data_train_y == 3) |\n",
        "    (data_train_y == 8), 1, 0)\n",
        "test_y = np.where(\n",
        "    (data_test_y == 7) | \n",
        "    (data_test_y == 3) |\n",
        "    (data_test_y == 8), 1, 0)"
      ]
    },
    {
      "cell_type": "markdown",
      "metadata": {
        "id": "YA4Mywmq2OWw"
      },
      "source": [
        "### Model 1: Random Forest"
      ]
    },
    {
      "cell_type": "code",
      "execution_count": 10,
      "metadata": {
        "colab": {
          "base_uri": "https://localhost:8080/",
          "height": 74
        },
        "id": "HcfLNzT72Nkf",
        "outputId": "f660bf4a-7882-4c76-b021-5ad5031ee88b"
      },
      "outputs": [
        {
          "data": {
            "text/html": [
              "<style>#sk-container-id-1 {color: black;background-color: white;}#sk-container-id-1 pre{padding: 0;}#sk-container-id-1 div.sk-toggleable {background-color: white;}#sk-container-id-1 label.sk-toggleable__label {cursor: pointer;display: block;width: 100%;margin-bottom: 0;padding: 0.3em;box-sizing: border-box;text-align: center;}#sk-container-id-1 label.sk-toggleable__label-arrow:before {content: \"▸\";float: left;margin-right: 0.25em;color: #696969;}#sk-container-id-1 label.sk-toggleable__label-arrow:hover:before {color: black;}#sk-container-id-1 div.sk-estimator:hover label.sk-toggleable__label-arrow:before {color: black;}#sk-container-id-1 div.sk-toggleable__content {max-height: 0;max-width: 0;overflow: hidden;text-align: left;background-color: #f0f8ff;}#sk-container-id-1 div.sk-toggleable__content pre {margin: 0.2em;color: black;border-radius: 0.25em;background-color: #f0f8ff;}#sk-container-id-1 input.sk-toggleable__control:checked~div.sk-toggleable__content {max-height: 200px;max-width: 100%;overflow: auto;}#sk-container-id-1 input.sk-toggleable__control:checked~label.sk-toggleable__label-arrow:before {content: \"▾\";}#sk-container-id-1 div.sk-estimator input.sk-toggleable__control:checked~label.sk-toggleable__label {background-color: #d4ebff;}#sk-container-id-1 div.sk-label input.sk-toggleable__control:checked~label.sk-toggleable__label {background-color: #d4ebff;}#sk-container-id-1 input.sk-hidden--visually {border: 0;clip: rect(1px 1px 1px 1px);clip: rect(1px, 1px, 1px, 1px);height: 1px;margin: -1px;overflow: hidden;padding: 0;position: absolute;width: 1px;}#sk-container-id-1 div.sk-estimator {font-family: monospace;background-color: #f0f8ff;border: 1px dotted black;border-radius: 0.25em;box-sizing: border-box;margin-bottom: 0.5em;}#sk-container-id-1 div.sk-estimator:hover {background-color: #d4ebff;}#sk-container-id-1 div.sk-parallel-item::after {content: \"\";width: 100%;border-bottom: 1px solid gray;flex-grow: 1;}#sk-container-id-1 div.sk-label:hover label.sk-toggleable__label {background-color: #d4ebff;}#sk-container-id-1 div.sk-serial::before {content: \"\";position: absolute;border-left: 1px solid gray;box-sizing: border-box;top: 0;bottom: 0;left: 50%;z-index: 0;}#sk-container-id-1 div.sk-serial {display: flex;flex-direction: column;align-items: center;background-color: white;padding-right: 0.2em;padding-left: 0.2em;position: relative;}#sk-container-id-1 div.sk-item {position: relative;z-index: 1;}#sk-container-id-1 div.sk-parallel {display: flex;align-items: stretch;justify-content: center;background-color: white;position: relative;}#sk-container-id-1 div.sk-item::before, #sk-container-id-1 div.sk-parallel-item::before {content: \"\";position: absolute;border-left: 1px solid gray;box-sizing: border-box;top: 0;bottom: 0;left: 50%;z-index: -1;}#sk-container-id-1 div.sk-parallel-item {display: flex;flex-direction: column;z-index: 1;position: relative;background-color: white;}#sk-container-id-1 div.sk-parallel-item:first-child::after {align-self: flex-end;width: 50%;}#sk-container-id-1 div.sk-parallel-item:last-child::after {align-self: flex-start;width: 50%;}#sk-container-id-1 div.sk-parallel-item:only-child::after {width: 0;}#sk-container-id-1 div.sk-dashed-wrapped {border: 1px dashed gray;margin: 0 0.4em 0.5em 0.4em;box-sizing: border-box;padding-bottom: 0.4em;background-color: white;}#sk-container-id-1 div.sk-label label {font-family: monospace;font-weight: bold;display: inline-block;line-height: 1.2em;}#sk-container-id-1 div.sk-label-container {text-align: center;}#sk-container-id-1 div.sk-container {/* jupyter's `normalize.less` sets `[hidden] { display: none; }` but bootstrap.min.css set `[hidden] { display: none !important; }` so we also need the `!important` here to be able to override the default hidden behavior on the sphinx rendered scikit-learn.org. See: https://github.com/scikit-learn/scikit-learn/issues/21755 */display: inline-block !important;position: relative;}#sk-container-id-1 div.sk-text-repr-fallback {display: none;}</style><div id=\"sk-container-id-1\" class=\"sk-top-container\"><div class=\"sk-text-repr-fallback\"><pre>RandomForestClassifier(n_estimators=200)</pre><b>In a Jupyter environment, please rerun this cell to show the HTML representation or trust the notebook. <br />On GitHub, the HTML representation is unable to render, please try loading this page with nbviewer.org.</b></div><div class=\"sk-container\" hidden><div class=\"sk-item\"><div class=\"sk-estimator sk-toggleable\"><input class=\"sk-toggleable__control sk-hidden--visually\" id=\"sk-estimator-id-1\" type=\"checkbox\" checked><label for=\"sk-estimator-id-1\" class=\"sk-toggleable__label sk-toggleable__label-arrow\">RandomForestClassifier</label><div class=\"sk-toggleable__content\"><pre>RandomForestClassifier(n_estimators=200)</pre></div></div></div></div></div>"
            ],
            "text/plain": [
              "RandomForestClassifier(n_estimators=200)"
            ]
          },
          "execution_count": 10,
          "metadata": {},
          "output_type": "execute_result"
        }
      ],
      "source": [
        "rf = RandomForestClassifier(n_estimators=200)\n",
        "rf.fit(train_x, train_y)"
      ]
    },
    {
      "cell_type": "code",
      "execution_count": 11,
      "metadata": {
        "colab": {
          "base_uri": "https://localhost:8080/",
          "height": 596
        },
        "id": "ok7Jmd2q3fdG",
        "outputId": "54a1a43d-dba9-4788-acad-030fb712c5e1"
      },
      "outputs": [
        {
          "name": "stdout",
          "output_type": "stream",
          "text": [
            "[1 0 0 ... 0 0 0]\n",
            "AUC: 0.9552595760822384\n",
            "Accuracy 0.9677\n",
            "Precision [0.96785062 0.96732708]\n",
            "Recall [0.98654837 0.92397078]\n",
            "F1 [0.97711006 0.94515198]\n",
            "Count [6988 3012]\n"
          ]
        },
        {
          "data": {
            "image/png": "[encoded data removed]",
            "text/plain": [
              "<Figure size 640x480 with 1 Axes>"
            ]
          },
          "metadata": {},
          "output_type": "display_data"
        }
      ],
      "source": [
        "preds = rf.predict(test_x)\n",
        "\n",
        "print(preds)\n",
        "\n",
        "fpr, tpr, thresholds = metrics.roc_curve(test_y,preds)\n",
        "plt.plot(fpr,tpr)\n",
        "plt.title(\"ROC Curve\")\n",
        "print(\"AUC:\",metrics.auc(fpr, tpr))\n",
        "plt.xlabel(\"False Positive Rate\")\n",
        "plt.ylabel(\"True Positive Rate\")\n",
        "p,r,f,count = metrics.precision_recall_fscore_support(test_y,preds>0)\n",
        "print(\"Accuracy\", (test_y == preds).mean())\n",
        "print(\"Precision\",p)\n",
        "print(\"Recall\",r)\n",
        "print(\"F1\",f)\n",
        "print(\"Count\",count)"
      ]
    },
    {
      "cell_type": "markdown",
      "metadata": {
        "id": "ro-Js42Q6SFz"
      },
      "source": [
        "### Model 2: SVM"
      ]
    },
    {
      "cell_type": "code",
      "execution_count": 12,
      "metadata": {
        "colab": {
          "base_uri": "https://localhost:8080/",
          "height": 74
        },
        "id": "CCZeAGip6V-O",
        "outputId": "d9550cf1-21ea-41d7-85d3-dd74b90d19dc"
      },
      "outputs": [
        {
          "data": {
            "text/html": [
              "<style>#sk-container-id-2 {color: black;background-color: white;}#sk-container-id-2 pre{padding: 0;}#sk-container-id-2 div.sk-toggleable {background-color: white;}#sk-container-id-2 label.sk-toggleable__label {cursor: pointer;display: block;width: 100%;margin-bottom: 0;padding: 0.3em;box-sizing: border-box;text-align: center;}#sk-container-id-2 label.sk-toggleable__label-arrow:before {content: \"▸\";float: left;margin-right: 0.25em;color: #696969;}#sk-container-id-2 label.sk-toggleable__label-arrow:hover:before {color: black;}#sk-container-id-2 div.sk-estimator:hover label.sk-toggleable__label-arrow:before {color: black;}#sk-container-id-2 div.sk-toggleable__content {max-height: 0;max-width: 0;overflow: hidden;text-align: left;background-color: #f0f8ff;}#sk-container-id-2 div.sk-toggleable__content pre {margin: 0.2em;color: black;border-radius: 0.25em;background-color: #f0f8ff;}#sk-container-id-2 input.sk-toggleable__control:checked~div.sk-toggleable__content {max-height: 200px;max-width: 100%;overflow: auto;}#sk-container-id-2 input.sk-toggleable__control:checked~label.sk-toggleable__label-arrow:before {content: \"▾\";}#sk-container-id-2 div.sk-estimator input.sk-toggleable__control:checked~label.sk-toggleable__label {background-color: #d4ebff;}#sk-container-id-2 div.sk-label input.sk-toggleable__control:checked~label.sk-toggleable__label {background-color: #d4ebff;}#sk-container-id-2 input.sk-hidden--visually {border: 0;clip: rect(1px 1px 1px 1px);clip: rect(1px, 1px, 1px, 1px);height: 1px;margin: -1px;overflow: hidden;padding: 0;position: absolute;width: 1px;}#sk-container-id-2 div.sk-estimator {font-family: monospace;background-color: #f0f8ff;border: 1px dotted black;border-radius: 0.25em;box-sizing: border-box;margin-bottom: 0.5em;}#sk-container-id-2 div.sk-estimator:hover {background-color: #d4ebff;}#sk-container-id-2 div.sk-parallel-item::after {content: \"\";width: 100%;border-bottom: 1px solid gray;flex-grow: 1;}#sk-container-id-2 div.sk-label:hover label.sk-toggleable__label {background-color: #d4ebff;}#sk-container-id-2 div.sk-serial::before {content: \"\";position: absolute;border-left: 1px solid gray;box-sizing: border-box;top: 0;bottom: 0;left: 50%;z-index: 0;}#sk-container-id-2 div.sk-serial {display: flex;flex-direction: column;align-items: center;background-color: white;padding-right: 0.2em;padding-left: 0.2em;position: relative;}#sk-container-id-2 div.sk-item {position: relative;z-index: 1;}#sk-container-id-2 div.sk-parallel {display: flex;align-items: stretch;justify-content: center;background-color: white;position: relative;}#sk-container-id-2 div.sk-item::before, #sk-container-id-2 div.sk-parallel-item::before {content: \"\";position: absolute;border-left: 1px solid gray;box-sizing: border-box;top: 0;bottom: 0;left: 50%;z-index: -1;}#sk-container-id-2 div.sk-parallel-item {display: flex;flex-direction: column;z-index: 1;position: relative;background-color: white;}#sk-container-id-2 div.sk-parallel-item:first-child::after {align-self: flex-end;width: 50%;}#sk-container-id-2 div.sk-parallel-item:last-child::after {align-self: flex-start;width: 50%;}#sk-container-id-2 div.sk-parallel-item:only-child::after {width: 0;}#sk-container-id-2 div.sk-dashed-wrapped {border: 1px dashed gray;margin: 0 0.4em 0.5em 0.4em;box-sizing: border-box;padding-bottom: 0.4em;background-color: white;}#sk-container-id-2 div.sk-label label {font-family: monospace;font-weight: bold;display: inline-block;line-height: 1.2em;}#sk-container-id-2 div.sk-label-container {text-align: center;}#sk-container-id-2 div.sk-container {/* jupyter's `normalize.less` sets `[hidden] { display: none; }` but bootstrap.min.css set `[hidden] { display: none !important; }` so we also need the `!important` here to be able to override the default hidden behavior on the sphinx rendered scikit-learn.org. See: https://github.com/scikit-learn/scikit-learn/issues/21755 */display: inline-block !important;position: relative;}#sk-container-id-2 div.sk-text-repr-fallback {display: none;}</style><div id=\"sk-container-id-2\" class=\"sk-top-container\"><div class=\"sk-text-repr-fallback\"><pre>SVC(tol=0.1)</pre><b>In a Jupyter environment, please rerun this cell to show the HTML representation or trust the notebook. <br />On GitHub, the HTML representation is unable to render, please try loading this page with nbviewer.org.</b></div><div class=\"sk-container\" hidden><div class=\"sk-item\"><div class=\"sk-estimator sk-toggleable\"><input class=\"sk-toggleable__control sk-hidden--visually\" id=\"sk-estimator-id-2\" type=\"checkbox\" checked><label for=\"sk-estimator-id-2\" class=\"sk-toggleable__label sk-toggleable__label-arrow\">SVC</label><div class=\"sk-toggleable__content\"><pre>SVC(tol=0.1)</pre></div></div></div></div></div>"
            ],
            "text/plain": [
              "SVC(tol=0.1)"
            ]
          },
          "execution_count": 12,
          "metadata": {},
          "output_type": "execute_result"
        }
      ],
      "source": [
        "svm = SVC(tol=1e-1)\n",
        "svm.fit(train_x, train_y)"
      ]
    },
    {
      "cell_type": "code",
      "execution_count": 13,
      "metadata": {
        "colab": {
          "base_uri": "https://localhost:8080/",
          "height": 579
        },
        "id": "WUuBwxq78BSz",
        "outputId": "e2c39bf7-d8f2-49df-aa71-2dd125c5d0b5"
      },
      "outputs": [
        {
          "name": "stdout",
          "output_type": "stream",
          "text": [
            "AUC: 0.9708723776901553\n",
            "Accuracy 0.9783\n",
            "Precision [0.97960051 0.97517851]\n",
            "Recall [0.98955352 0.95219124]\n",
            "F1 [0.98455186 0.96354779]\n",
            "Count [6988 3012]\n"
          ]
        },
        {
          "data": {
            "image/png": "[encoded data removed]",
            "text/plain": [
              "<Figure size 640x480 with 1 Axes>"
            ]
          },
          "metadata": {},
          "output_type": "display_data"
        }
      ],
      "source": [
        "preds = svm.predict(test_x)\n",
        "\n",
        "fpr, tpr, thresholds = metrics.roc_curve(test_y,preds)\n",
        "plt.plot(fpr,tpr)\n",
        "plt.title(\"ROC Curve\")\n",
        "print(\"AUC:\",metrics.auc(fpr, tpr))\n",
        "plt.xlabel(\"False Positive Rate\")\n",
        "plt.ylabel(\"True Positive Rate\")\n",
        "p,r,f,count = metrics.precision_recall_fscore_support(test_y,preds>0)\n",
        "print(\"Accuracy\",(test_y == preds).mean())\n",
        "print(\"Precision\",p)\n",
        "print(\"Recall\",r)\n",
        "print(\"F1\",f)\n",
        "print(\"Count\",count)"
      ]
    },
    {
      "cell_type": "markdown",
      "metadata": {
        "id": "H8QvNbzA8G-x"
      },
      "source": [
        "### Results from Logistic Regression"
      ]
    },
    {
      "cell_type": "code",
      "execution_count": 14,
      "metadata": {
        "colab": {
          "base_uri": "https://localhost:8080/",
          "height": 579
        },
        "id": "3rIC8bpz8Lcr",
        "outputId": "633f3857-801d-4e4e-b4b3-4e6e46fd168b"
      },
      "outputs": [
        {
          "name": "stdout",
          "output_type": "stream",
          "text": [
            "AUC: 0.8307008561822165\n",
            "Accuracy 0.8748\n",
            "Precision [0.88631466 0.84161491]\n",
            "Recall [0.9416142  0.71978752]\n",
            "F1 [0.91312795 0.77594846]\n",
            "Count [6988 3012]\n"
          ]
        },
        {
          "data": {
            "image/png": "[encoded data removed]",
            "text/plain": [
              "<Figure size 640x480 with 1 Axes>"
            ]
          },
          "metadata": {},
          "output_type": "display_data"
        }
      ],
      "source": [
        "np_labels = model_labels.to('cpu').detach().numpy()\n",
        "np_preds = model_preds.to('cpu').detach().numpy()\n",
        "\n",
        "fpr, tpr, thresholds = metrics.roc_curve(np_labels, np_preds)\n",
        "plt.plot(fpr,tpr)\n",
        "plt.title(\"ROC Curve\")\n",
        "print(\"AUC:\",metrics.auc(fpr, tpr))\n",
        "plt.xlabel(\"False Positive Rate\")\n",
        "plt.ylabel(\"True Positive Rate\")\n",
        "p,r,f,count = metrics.precision_recall_fscore_support(np_labels,np_preds>0)\n",
        "print(\"Accuracy\", (np_preds == np_labels).mean())\n",
        "print(\"Precision\",p)\n",
        "print(\"Recall\",r)\n",
        "print(\"F1\",f)\n",
        "print(\"Count\",count)"
      ]
    },
    {
      "cell_type": "markdown",
      "metadata": {
        "id": "li512KWg-zfS"
      },
      "source": [
        "### Analysis"
      ]
    },
    {
      "cell_type": "markdown",
      "metadata": {
        "id": "LMPFTVZr_upk"
      },
      "source": [
        "Well I for sure don't think logistic regression is good for this task! <br>\n",
        "It easily performed worst in almost every category and also took the longest <br> to train to get there! And was also the hardest to implement of the three. <br> As for the other two, its closer. They have very similar scores across the board <br> with SVM slightly edging ahead, however, SVM also takes much longer to fit <br> and predict, so I think that increase classification rate does not do enough to make <br> SVM worth using over something like random forest. "
      ]
    },
    {
      "cell_type": "markdown",
      "metadata": {
        "id": "28FqfgP5AlX1"
      },
      "source": [
        "--------------------------------------------------------------"
      ]
    },
    {
      "cell_type": "markdown",
      "metadata": {
        "id": "xBFge5jhAniA"
      },
      "source": [
        "## **Problem \\#3: Multi Layer Model**"
      ]
    },
    {
      "cell_type": "markdown",
      "metadata": {
        "id": "bVs2JMEAAuO_"
      },
      "source": [
        "### A model that I am using for a project slightly modified"
      ]
    },
    {
      "cell_type": "code",
      "execution_count": 15,
      "metadata": {
        "id": "TrqpnV3NAtJK"
      },
      "outputs": [],
      "source": [
        "class LeNET(nn.Module):\n",
        "  def __init__(self, n_classes, epochs, device):\n",
        "    super().__init__()\n",
        "\n",
        "    self.extract = nn.Sequential(\n",
        "        nn.Conv2d(in_channels=1, out_channels=6, kernel_size=2, stride=1),\n",
        "        nn.ReLU(),\n",
        "        nn.AvgPool2d(kernel_size=2),\n",
        "        nn.Conv2d(in_channels=6, out_channels=16, kernel_size=2, stride=1),\n",
        "        nn.ReLU(),\n",
        "        nn.AvgPool2d(kernel_size=2),\n",
        "        nn.Conv2d(in_channels=16, out_channels=32, kernel_size=4, stride=1),\n",
        "        nn.ReLU(),\n",
        "        nn.Conv2d(in_channels=32, out_channels=120, kernel_size=2, stride=1),\n",
        "        nn.ReLU(),\n",
        "        nn.Flatten()\n",
        "    )\n",
        "\n",
        "    self.classify = nn.Sequential(\n",
        "        nn.Linear(in_features=480, out_features=256),\n",
        "        nn.ReLU(),\n",
        "        nn.Linear(in_features=256, out_features=100),\n",
        "        nn.ReLU(),\n",
        "        nn.Linear(in_features=100, out_features=84),\n",
        "        nn.ReLU(),\n",
        "        nn.Linear(in_features=84, out_features=n_classes),\n",
        "        nn.Softmax()\n",
        "    )\n",
        "\n",
        "    self.optimizer = torch.optim.Adam(self.parameters(), lr=0.0001)\n",
        "    self.criterion = nn.CrossEntropyLoss()\n",
        "\n",
        "    self.epochs = epochs\n",
        "\n",
        "    self.device = device\n",
        "\n",
        "\n",
        "  def forward(self, X):\n",
        "    X = X.view(-1, 1, 28, 28)\n",
        "    extr = self.extract(X)\n",
        "\n",
        "    apreds = self.classify(extr)\n",
        "    return apreds\n",
        "\n",
        "  def train(self, X_train, y_train, X_test, y_test):\n",
        "    batch_size = 32\n",
        "\n",
        "    yact = torch.zeros(y_train.shape[0], 10)\n",
        "    for i,val in enumerate(y_train):\n",
        "      yact[i, val] = 1\n",
        "\n",
        "    break_count = 0\n",
        "    max_break_count = 10\n",
        "    max_acc = 0\n",
        "    state_dict = None\n",
        "    for epoch in range(self.epochs):\n",
        "      total_loss = 0\n",
        "      indices = torch.randperm(X_train.shape[0])\n",
        "      X_train = X_train[indices]\n",
        "      yact = yact[indices]\n",
        "\n",
        "      for i in range(0, len(X_train), batch_size):\n",
        "        x = X_train[i:i+batch_size].to(self.device).float()\n",
        "        y = yact[i:i+batch_size].to(self.device)\n",
        "        \n",
        "        self.optimizer.zero_grad()\n",
        "\n",
        "        pred = self.forward(x)\n",
        "\n",
        "        loss = self.criterion(pred, y) \n",
        "        total_loss += loss.item()\n",
        "\n",
        "        loss.backward()\n",
        "        self.optimizer.step()\n",
        "      \n",
        "      if ((epoch + 1) % 10 == 0):\n",
        "        print(f'[{epoch + 1}] Training loss: {total_loss / 10 / X_train.shape[0]}')\n",
        "        total_loss = 0.0\n",
        "\n",
        "      acc = 0\n",
        "      with torch.no_grad():\n",
        "        for i in range(0, len(X_test), batch_size):\n",
        "          x = X_test[i:i+batch_size].to(self.device).float()\n",
        "          y = y_test[i:i+batch_size].detach().numpy()\n",
        "          \n",
        "          pred = self.predict(x)\n",
        "          \n",
        "          acc += (pred == y).sum()\n",
        "        \n",
        "        acc /= X_test.shape[0]\n",
        "        print(f\"[{epoch + 1}] Validation Accuracy: {acc}\")\n",
        "        \n",
        "        if (acc > max_acc): \n",
        "          state_dict = self.state_dict()\n",
        "          max_acc = acc\n",
        "          break_count = 0\n",
        "\n",
        "        if (acc < max_acc):\n",
        "          break_count += 1 \n",
        "          if (break_count >= max_break_count):\n",
        "            self.load_state_dict(state_dict)\n",
        "            break\n",
        "\n",
        "        \n",
        "\n",
        "  def predict(self, x):\n",
        "    X = x.to(self.device)\n",
        "    p = np.zeros(x.shape[0])\n",
        "    preds = self.forward(X)\n",
        "    preds = preds.to('cpu')\n",
        "\n",
        "    preds = preds.detach().numpy()\n",
        "    for i,pred in enumerate(preds):\n",
        "      p[i] = np.argmax(pred)\n",
        "\n",
        "    return p"
      ]
    },
    {
      "cell_type": "code",
      "execution_count": 16,
      "metadata": {
        "colab": {
          "base_uri": "https://localhost:8080/"
        },
        "id": "1-Sa3EbdBZ7x",
        "outputId": "d416274a-e576-4058-f037-72cd83fa6ee3"
      },
      "outputs": [
        {
          "name": "stderr",
          "output_type": "stream",
          "text": [
            "/usr/local/lib/python3.9/dist-packages/torch/nn/modules/container.py:204: UserWarning: Implicit dimension choice for softmax has been deprecated. Change the call to include dim=X as an argument.\n",
            "  input = module(input)\n"
          ]
        },
        {
          "name": "stdout",
          "output_type": "stream",
          "text": [
            "[1] Validation Accuracy: 0.6785\n",
            "[2] Validation Accuracy: 0.7657\n",
            "[3] Validation Accuracy: 0.7697\n",
            "[4] Validation Accuracy: 0.8584\n",
            "[5] Validation Accuracy: 0.872\n",
            "[6] Validation Accuracy: 0.9422\n",
            "[7] Validation Accuracy: 0.9678\n",
            "[8] Validation Accuracy: 0.9518\n",
            "[9] Validation Accuracy: 0.9696\n",
            "[10] Training loss: 0.004653557670911153\n",
            "[10] Validation Accuracy: 0.9691\n",
            "[11] Validation Accuracy: 0.9774\n",
            "[12] Validation Accuracy: 0.9717\n",
            "[13] Validation Accuracy: 0.9779\n",
            "[14] Validation Accuracy: 0.9768\n",
            "[15] Validation Accuracy: 0.9758\n",
            "[16] Validation Accuracy: 0.9788\n",
            "[17] Validation Accuracy: 0.9778\n",
            "[18] Validation Accuracy: 0.9787\n",
            "[19] Validation Accuracy: 0.9797\n",
            "[20] Training loss: 0.004611301457087199\n",
            "[20] Validation Accuracy: 0.9826\n",
            "[21] Validation Accuracy: 0.9795\n",
            "[22] Validation Accuracy: 0.9827\n",
            "[23] Validation Accuracy: 0.981\n",
            "[24] Validation Accuracy: 0.9824\n",
            "[25] Validation Accuracy: 0.9809\n",
            "[26] Validation Accuracy: 0.9831\n",
            "[27] Validation Accuracy: 0.9835\n",
            "[28] Validation Accuracy: 0.9824\n",
            "[29] Validation Accuracy: 0.9827\n",
            "[30] Training loss: 0.0045962267176310224\n",
            "[30] Validation Accuracy: 0.98\n",
            "[31] Validation Accuracy: 0.9839\n",
            "[32] Validation Accuracy: 0.9834\n",
            "[33] Validation Accuracy: 0.9843\n",
            "[34] Validation Accuracy: 0.9846\n",
            "[35] Validation Accuracy: 0.9849\n",
            "[36] Validation Accuracy: 0.9834\n",
            "[37] Validation Accuracy: 0.9841\n",
            "[38] Validation Accuracy: 0.9852\n",
            "[39] Validation Accuracy: 0.9827\n",
            "[40] Training loss: 0.004588889450232187\n",
            "[40] Validation Accuracy: 0.9822\n",
            "[41] Validation Accuracy: 0.9829\n",
            "[42] Validation Accuracy: 0.9847\n",
            "[43] Validation Accuracy: 0.9832\n",
            "[44] Validation Accuracy: 0.9844\n",
            "[45] Validation Accuracy: 0.9852\n",
            "[46] Validation Accuracy: 0.9843\n",
            "[47] Validation Accuracy: 0.9857\n",
            "[48] Validation Accuracy: 0.986\n",
            "[49] Validation Accuracy: 0.986\n",
            "[50] Training loss: 0.004585115096966425\n",
            "[50] Validation Accuracy: 0.9839\n"
          ]
        }
      ],
      "source": [
        "model = LeNET(10, 50, DEVICE).to(DEVICE)\n",
        "\n",
        "model.train(\n",
        "    train_dataset.data, \n",
        "    train_dataset.targets, \n",
        "    test_dataset.data, \n",
        "    test_dataset.targets\n",
        ")"
      ]
    },
    {
      "cell_type": "markdown",
      "metadata": {
        "id": "ccZOLa3ILRNu"
      },
      "source": [
        "Testing"
      ]
    },
    {
      "cell_type": "code",
      "execution_count": 17,
      "metadata": {
        "colab": {
          "base_uri": "https://localhost:8080/"
        },
        "id": "U19U_fnmLQ2K",
        "outputId": "50fbd5ec-1810-4145-f96d-ccc058956931"
      },
      "outputs": [
        {
          "name": "stdout",
          "output_type": "stream",
          "text": [
            "Acc: 0.9839\n"
          ]
        }
      ],
      "source": [
        "preds = model.predict(\n",
        "    test_dataset.data.float()\n",
        ")\n",
        "\n",
        "print(\"Acc:\",(preds==test_dataset.targets.detach().numpy()).mean())"
      ]
    },
    {
      "cell_type": "markdown",
      "metadata": {
        "id": "vP2HQpjpM6Z2"
      },
      "source": [
        "### Model Explanation"
      ]
    },
    {
      "cell_type": "markdown",
      "metadata": {
        "id": "EO5UHJA5M8P3"
      },
      "source": [
        "For this model, I decided to use a convolutional architecture that I am also <br> using for a final project in CSCI 5525 that I'm doing for filling out satisfaction surveys <br> using emotions detected on people's faces. Its based on the LeNet architecture <br> and includes 4 convolutional layers, 2 max pools, and 4 linear layers all connected by ReLU <br> activation functions. The training method this time is almost exactly <br> the same as the Logistic Regressor but instead of using a data loader, <br> I just pass all values through in a tensor as it is much faster, <br> especially when done on the GPU. Convolutional layers work really well in <br> situations like this because there are clear features that they can learn <br> as they go across the iamges and the results show just that. <br> The linear layers augment the convolutional layers by kind of <br> decoding their output into a certain category of classification. <br> I was also considering using an autoencoder instead of a CNN <br> to encode into a smaller feature space, but I decided to just keep with this. <br> A 98% accuracy on the testing data which is the highest of the models. <br> Other parameters of the model are Adam with a learning rate of 0.0001 because <br> I tried others and this worked best, and cross entropy loss because duh. <br> Also, the output layer runs through a softmax in order to get it ready for the classification. "
      ]
    },
    {
      "cell_type": "markdown",
      "metadata": {
        "id": "eEhclT4QOVMB"
      },
      "source": [
        "---------------------------------------------------------------------"
      ]
    },
    {
      "cell_type": "markdown",
      "metadata": {
        "id": "B2CnQQvsOX3p"
      },
      "source": [
        "## **Problem \\#4: Visual Analysis**"
      ]
    },
    {
      "cell_type": "markdown",
      "metadata": {
        "id": "EcCUt1fUhcUo"
      },
      "source": [
        "### Well Classified Digits"
      ]
    },
    {
      "cell_type": "code",
      "execution_count": 18,
      "metadata": {
        "colab": {
          "base_uri": "https://localhost:8080/",
          "height": 598
        },
        "id": "1RM2K0NzOlN-",
        "outputId": "b784b562-454f-4090-94a9-7a5c9d96a717"
      },
      "outputs": [
        {
          "data": {
            "image/png": "[encoded data removed]",
            "text/plain": [
              "<Figure size 1000x700 with 10 Axes>"
            ]
          },
          "metadata": {},
          "output_type": "display_data"
        }
      ],
      "source": [
        "raw_preds = model.forward(\n",
        "    test_dataset.data.to(DEVICE).float()\n",
        ")\n",
        "\n",
        "nums = np.zeros((raw_preds.shape[0],3))\n",
        "for i,pred in enumerate(raw_preds):\n",
        "  nums[i,0] = np.argmax(pred.to('cpu').detach().numpy())\n",
        "  nums[i,1] = pred[int(nums[i,0])]\n",
        "  nums[i,2] = i\n",
        "\n",
        "max_data_samples = []\n",
        "for i in range(10):\n",
        "  i_s = nums[nums[:,0] == i]\n",
        "  max = np.argmax(i_s[:,1])\n",
        "  max_point = i_s[max,:]\n",
        "  max_data_samples.append((test_dataset.data[int(max_point[2])], max_point[1]))\n",
        "\n",
        "# create figure\n",
        "fig = plt.figure(figsize=(10, 7))\n",
        "  \n",
        "# setting values to rows and column variables\n",
        "rows = 3\n",
        "columns = 4\n",
        "\n",
        "for i,(sample,val) in enumerate(max_data_samples):\n",
        "  fig.add_subplot(rows, columns, i+1)\n",
        "  plt.imshow(sample.to('cpu').detach().numpy())\n",
        "  plt.axis('off')\n",
        "  plt.title(f\"Num: {i}, Pred: {val}\")"
      ]
    },
    {
      "cell_type": "markdown",
      "metadata": {
        "id": "dM1ooB2Mhfqn"
      },
      "source": [
        "The above digits look very much like what they \"should\" look like. <br>\n",
        "I think the only ones that are a bit weird are 6 and 8. I feel like 6's <br>\n",
        "more often have a connected, less swirly loop, though, this could be because <br>\n",
        "there were less 6's and thus weren't able to be classified as well. The 8 is also <br> a bit wobbly which seems a bit odd but it still has the general shape. <br> It is worth noting thought that a lot of the digits had a 1 as their <br> prediction so these may not be the most cannonical. "
      ]
    },
    {
      "cell_type": "markdown",
      "metadata": {
        "id": "WUdtr3ptiDSL"
      },
      "source": [
        "### Confusion Matrix"
      ]
    },
    {
      "cell_type": "code",
      "execution_count": 19,
      "metadata": {
        "colab": {
          "base_uri": "https://localhost:8080/",
          "height": 625
        },
        "id": "Y2pPfc92iGLK",
        "outputId": "8dfa23fd-2999-423d-f275-142b41fc4e34"
      },
      "outputs": [
        {
          "name": "stdout",
          "output_type": "stream",
          "text": [
            "[[ 970    0    1    0    0    1    4    1    1    2]\n",
            " [   1 1123    2    3    0    0    1    4    0    1]\n",
            " [   2    0 1018    4    0    0    0    7    1    0]\n",
            " [   0    0    2  998    0    1    0    6    2    1]\n",
            " [   0    0    0    0  969    0    5    1    0    7]\n",
            " [   2    0    1    9    0  875    1    1    3    0]\n",
            " [   7    1    1    1    3    5  937    0    3    0]\n",
            " [   1    2    5    1    0    0    0 1019    0    0]\n",
            " [   6    0    4    3    0    1    0    5  951    4]\n",
            " [   4    1    0    4    9    3    0    7    2  979]]\n"
          ]
        },
        {
          "data": {
            "text/plain": [
              "<Axes: >"
            ]
          },
          "execution_count": 19,
          "metadata": {},
          "output_type": "execute_result"
        },
        {
          "data": {
            "image/png": "[encoded data removed]",
            "text/plain": [
              "<Figure size 640x480 with 2 Axes>"
            ]
          },
          "metadata": {},
          "output_type": "display_data"
        }
      ],
      "source": [
        "import seaborn as sbn\n",
        "\n",
        "targs = test_dataset.targets.to('cpu').detach().numpy()\n",
        "datas = test_dataset.data.to('cpu').detach().numpy()\n",
        "\n",
        "m = metrics.confusion_matrix(targs,preds)\n",
        "\n",
        "print(m)\n",
        "\n",
        "sbn.heatmap(m)"
      ]
    },
    {
      "cell_type": "markdown",
      "metadata": {
        "id": "nfgsbCL0i96D"
      },
      "source": [
        "From above, we can see that the most misclassified values are 7, 8, 9, 5, and uhhhhhh 1 I guess. <br> Lets plot those then."
      ]
    },
    {
      "cell_type": "code",
      "execution_count": 20,
      "metadata": {
        "colab": {
          "base_uri": "https://localhost:8080/",
          "height": 598
        },
        "id": "CseII0EZjuz0",
        "outputId": "e5dbf0b1-7840-4ee1-df4f-09f472bbf317"
      },
      "outputs": [
        {
          "data": {
            "image/png": "[encoded data removed]",
            "text/plain": [
              "<Figure size 1000x700 with 5 Axes>"
            ]
          },
          "metadata": {},
          "output_type": "display_data"
        }
      ],
      "source": [
        "vals = [1,5,7,8,9]\n",
        "show_data = []\n",
        "for val in vals:\n",
        "  show_data.append(\n",
        "      datas[(preds != val) & (targs == val)][0]\n",
        "  )\n",
        "\n",
        "# create figure\n",
        "fig = plt.figure(figsize=(10, 7))\n",
        "  \n",
        "# setting values to rows and column variables\n",
        "rows = 3\n",
        "columns = 2\n",
        "\n",
        "for i,sample in enumerate(show_data):\n",
        "  fig.add_subplot(rows, columns, i+1)\n",
        "  plt.imshow(sample)\n",
        "  plt.axis('off')\n",
        "  plt.title(f\"Pred: {i}, Actual: {vals[i]}\")\n"
      ]
    },
    {
      "cell_type": "markdown",
      "metadata": {
        "id": "zmTbCdLBmRV0"
      },
      "source": [
        "We can see from these that some are very strange and it makes sense that they were <br> misclassified, like the 1 and the 5, however, others like the 8 and 9 look <br> very much like normal so its weird that they were misclassified. "
      ]
    },
    {
      "cell_type": "markdown",
      "metadata": {
        "id": "hF18cpogmdDg"
      },
      "source": [
        "-------------------------------------"
      ]
    },
    {
      "cell_type": "markdown",
      "metadata": {
        "id": "FOlQCw4TmjTP"
      },
      "source": [
        "## **Extra Credit**"
      ]
    },
    {
      "cell_type": "code",
      "execution_count": 21,
      "metadata": {
        "colab": {
          "base_uri": "https://localhost:8080/"
        },
        "id": "9uzsFA0pmoT9",
        "outputId": "58406956-6afc-4e17-810c-0c198c28f4ab"
      },
      "outputs": [
        {
          "name": "stdout",
          "output_type": "stream",
          "text": [
            "Looking in indexes: https://pypi.org/simple, https://us-python.pkg.dev/colab-wheels/public/simple/\n",
            "Collecting gradio\n",
            "  Downloading gradio-3.24.1-py3-none-any.whl (15.7 MB)\n",
            "\u001b[2K     \u001b[90m━━━━━━━━━━━━━━━━━━━━━━━━━━━━━━━━━━━━━━━━\u001b[0m \u001b[32m15.7/15.7 MB\u001b[0m \u001b[31m90.3 MB/s\u001b[0m eta \u001b[36m0:00:00\u001b[0m\n",
            "\u001b[?25hCollecting python-multipart\n",
            "  Downloading python_multipart-0.0.6-py3-none-any.whl (45 kB)\n",
            "\u001b[2K     \u001b[90m━━━━━━━━━━━━━━━━━━━━━━━━━━━━━━━━━━━━━━━━\u001b[0m \u001b[32m45.7/45.7 KB\u001b[0m \u001b[31m7.0 MB/s\u001b[0m eta \u001b[36m0:00:00\u001b[0m\n",
            "\u001b[?25hRequirement already satisfied: numpy in /usr/local/lib/python3.9/dist-packages (from gradio) (1.22.4)\n",
            "Requirement already satisfied: altair>=4.2.0 in /usr/local/lib/python3.9/dist-packages (from gradio) (4.2.2)\n",
            "Requirement already satisfied: typing-extensions in /usr/local/lib/python3.9/dist-packages (from gradio) (4.5.0)\n",
            "Requirement already satisfied: pydantic in /usr/local/lib/python3.9/dist-packages (from gradio) (1.10.7)\n",
            "Collecting fastapi\n",
            "  Downloading fastapi-0.95.0-py3-none-any.whl (57 kB)\n",
            "\u001b[2K     \u001b[90m━━━━━━━━━━━━━━━━━━━━━━━━━━━━━━━━━━━━━━━━\u001b[0m \u001b[32m57.1/57.1 KB\u001b[0m \u001b[31m4.8 MB/s\u001b[0m eta \u001b[36m0:00:00\u001b[0m\n",
            "\u001b[?25hRequirement already satisfied: markupsafe in /usr/local/lib/python3.9/dist-packages (from gradio) (2.1.2)\n",
            "Collecting gradio-client>=0.0.5\n",
            "  Downloading gradio_client-0.0.5-py3-none-any.whl (12 kB)\n",
            "Collecting pydub\n",
            "  Downloading pydub-0.25.1-py2.py3-none-any.whl (32 kB)\n",
            "Collecting semantic-version\n",
            "  Downloading semantic_version-2.10.0-py2.py3-none-any.whl (15 kB)\n",
            "Requirement already satisfied: matplotlib in /usr/local/lib/python3.9/dist-packages (from gradio) (3.7.1)\n",
            "Requirement already satisfied: jinja2 in /usr/local/lib/python3.9/dist-packages (from gradio) (3.1.2)\n",
            "Requirement already satisfied: pillow in /usr/local/lib/python3.9/dist-packages (from gradio) (8.4.0)\n",
            "Requirement already satisfied: requests in /usr/local/lib/python3.9/dist-packages (from gradio) (2.27.1)\n",
            "Collecting huggingface-hub>=0.13.0\n",
            "  Downloading huggingface_hub-0.13.3-py3-none-any.whl (199 kB)\n",
            "\u001b[2K     \u001b[90m━━━━━━━━━━━━━━━━━━━━━━━━━━━━━━━━━━━━━━\u001b[0m \u001b[32m199.8/199.8 KB\u001b[0m \u001b[31m25.5 MB/s\u001b[0m eta \u001b[36m0:00:00\u001b[0m\n",
            "\u001b[?25hCollecting httpx\n",
            "  Downloading httpx-0.23.3-py3-none-any.whl (71 kB)\n",
            "\u001b[2K     \u001b[90m━━━━━━━━━━━━━━━━━━━━━━━━━━━━━━━━━━━━━━━━\u001b[0m \u001b[32m71.5/71.5 KB\u001b[0m \u001b[31m11.3 MB/s\u001b[0m eta \u001b[36m0:00:00\u001b[0m\n",
            "\u001b[?25hRequirement already satisfied: pyyaml in /usr/local/lib/python3.9/dist-packages (from gradio) (6.0)\n",
            "Collecting mdit-py-plugins<=0.3.3\n",
            "  Downloading mdit_py_plugins-0.3.3-py3-none-any.whl (50 kB)\n",
            "\u001b[2K     \u001b[90m━━━━━━━━━━━━━━━━━━━━━━━━━━━━━━━━━━━━━━━━\u001b[0m \u001b[32m50.5/50.5 KB\u001b[0m \u001b[31m7.8 MB/s\u001b[0m eta \u001b[36m0:00:00\u001b[0m\n",
            "\u001b[?25hCollecting websockets>=10.0\n",
            "  Downloading websockets-10.4-cp39-cp39-manylinux_2_5_x86_64.manylinux1_x86_64.manylinux_2_17_x86_64.manylinux2014_x86_64.whl (106 kB)\n",
            "\u001b[2K     \u001b[90m━━━━━━━━━━━━━━━━━━━━━━━━━━━━━━━━━━━━━━\u001b[0m \u001b[32m106.5/106.5 KB\u001b[0m \u001b[31m15.7 MB/s\u001b[0m eta \u001b[36m0:00:00\u001b[0m\n",
            "\u001b[?25hCollecting ffmpy\n",
            "  Downloading ffmpy-0.3.0.tar.gz (4.8 kB)\n",
            "  Preparing metadata (setup.py) ... \u001b[?25l\u001b[?25hdone\n",
            "Collecting uvicorn\n",
            "  Downloading uvicorn-0.21.1-py3-none-any.whl (57 kB)\n",
            "\u001b[2K     \u001b[90m━━━━━━━━━━━━━━━━━━━━━━━━━━━━━━━━━━━━━━━━\u001b[0m \u001b[32m57.8/57.8 KB\u001b[0m \u001b[31m7.6 MB/s\u001b[0m eta \u001b[36m0:00:00\u001b[0m\n",
            "\u001b[?25hRequirement already satisfied: pandas in /usr/local/lib/python3.9/dist-packages (from gradio) (1.4.4)\n",
            "Collecting aiofiles\n",
            "  Downloading aiofiles-23.1.0-py3-none-any.whl (14 kB)\n",
            "Collecting orjson\n",
            "  Downloading orjson-3.8.9-cp39-cp39-manylinux_2_28_x86_64.whl (144 kB)\n",
            "\u001b[2K     \u001b[90m━━━━━━━━━━━━━━━━━━━━━━━━━━━━━━━━━━━━━━\u001b[0m \u001b[32m144.1/144.1 KB\u001b[0m \u001b[31m23.5 MB/s\u001b[0m eta \u001b[36m0:00:00\u001b[0m\n",
            "\u001b[?25hRequirement already satisfied: markdown-it-py[linkify]>=2.0.0 in /usr/local/lib/python3.9/dist-packages (from gradio) (2.2.0)\n",
            "Collecting aiohttp\n",
            "  Downloading aiohttp-3.8.4-cp39-cp39-manylinux_2_17_x86_64.manylinux2014_x86_64.whl (1.0 MB)\n",
            "\u001b[2K     \u001b[90m━━━━━━━━━━━━━━━━━━━━━━━━━━━━━━━━━━━━━━━━\u001b[0m \u001b[32m1.0/1.0 MB\u001b[0m \u001b[31m71.1 MB/s\u001b[0m eta \u001b[36m0:00:00\u001b[0m\n",
            "\u001b[?25hRequirement already satisfied: entrypoints in /usr/local/lib/python3.9/dist-packages (from altair>=4.2.0->gradio) (0.4)\n",
            "Requirement already satisfied: jsonschema>=3.0 in /usr/local/lib/python3.9/dist-packages (from altair>=4.2.0->gradio) (4.3.3)\n",
            "Requirement already satisfied: toolz in /usr/local/lib/python3.9/dist-packages (from altair>=4.2.0->gradio) (0.12.0)\n",
            "Requirement already satisfied: packaging in /usr/local/lib/python3.9/dist-packages (from gradio-client>=0.0.5->gradio) (23.0)\n",
            "Requirement already satisfied: fsspec in /usr/local/lib/python3.9/dist-packages (from gradio-client>=0.0.5->gradio) (2023.3.0)\n",
            "Requirement already satisfied: filelock in /usr/local/lib/python3.9/dist-packages (from huggingface-hub>=0.13.0->gradio) (3.10.7)\n",
            "Requirement already satisfied: tqdm>=4.42.1 in /usr/local/lib/python3.9/dist-packages (from huggingface-hub>=0.13.0->gradio) (4.65.0)\n",
            "Requirement already satisfied: mdurl~=0.1 in /usr/local/lib/python3.9/dist-packages (from markdown-it-py[linkify]>=2.0.0->gradio) (0.1.2)\n",
            "Collecting linkify-it-py<3,>=1\n",
            "  Downloading linkify_it_py-2.0.0-py3-none-any.whl (19 kB)\n",
            "Requirement already satisfied: python-dateutil>=2.8.1 in /usr/local/lib/python3.9/dist-packages (from pandas->gradio) (2.8.2)\n",
            "Requirement already satisfied: pytz>=2020.1 in /usr/local/lib/python3.9/dist-packages (from pandas->gradio) (2022.7.1)\n",
            "Collecting frozenlist>=1.1.1\n",
            "  Downloading frozenlist-1.3.3-cp39-cp39-manylinux_2_5_x86_64.manylinux1_x86_64.manylinux_2_17_x86_64.manylinux2014_x86_64.whl (158 kB)\n",
            "\u001b[2K     \u001b[90m━━━━━━━━━━━━━━━━━━━━━━━━━━━━━━━━━━━━━━\u001b[0m \u001b[32m158.8/158.8 KB\u001b[0m \u001b[31m23.0 MB/s\u001b[0m eta \u001b[36m0:00:00\u001b[0m\n",
            "\u001b[?25hCollecting async-timeout<5.0,>=4.0.0a3\n",
            "  Downloading async_timeout-4.0.2-py3-none-any.whl (5.8 kB)\n",
            "Collecting yarl<2.0,>=1.0\n",
            "  Downloading yarl-1.8.2-cp39-cp39-manylinux_2_17_x86_64.manylinux2014_x86_64.whl (264 kB)\n",
            "\u001b[2K     \u001b[90m━━━━━━━━━━━━━━━━━━━━━━━━━━━━━━━━━━━━━━\u001b[0m \u001b[32m264.6/264.6 KB\u001b[0m \u001b[31m32.3 MB/s\u001b[0m eta \u001b[36m0:00:00\u001b[0m\n",
            "\u001b[?25hCollecting aiosignal>=1.1.2\n",
            "  Downloading aiosignal-1.3.1-py3-none-any.whl (7.6 kB)\n",
            "Requirement already satisfied: attrs>=17.3.0 in /usr/local/lib/python3.9/dist-packages (from aiohttp->gradio) (22.2.0)\n",
            "Collecting multidict<7.0,>=4.5\n",
            "  Downloading multidict-6.0.4-cp39-cp39-manylinux_2_17_x86_64.manylinux2014_x86_64.whl (114 kB)\n",
            "\u001b[2K     \u001b[90m━━━━━━━━━━━━━━━━━━━━━━━━━━━━━━━━━━━━━━\u001b[0m \u001b[32m114.2/114.2 KB\u001b[0m \u001b[31m16.9 MB/s\u001b[0m eta \u001b[36m0:00:00\u001b[0m\n",
            "\u001b[?25hRequirement already satisfied: charset-normalizer<4.0,>=2.0 in /usr/local/lib/python3.9/dist-packages (from aiohttp->gradio) (2.0.12)\n",
            "Collecting starlette<0.27.0,>=0.26.1\n",
            "  Downloading starlette-0.26.1-py3-none-any.whl (66 kB)\n",
            "\u001b[2K     \u001b[90m━━━━━━━━━━━━━━━━━━━━━━━━━━━━━━━━━━━━━━━━\u001b[0m \u001b[32m66.9/66.9 KB\u001b[0m \u001b[31m10.6 MB/s\u001b[0m eta \u001b[36m0:00:00\u001b[0m\n",
            "\u001b[?25hRequirement already satisfied: certifi in /usr/local/lib/python3.9/dist-packages (from httpx->gradio) (2022.12.7)\n",
            "Collecting httpcore<0.17.0,>=0.15.0\n",
            "  Downloading httpcore-0.16.3-py3-none-any.whl (69 kB)\n",
            "\u001b[2K     \u001b[90m━━━━━━━━━━━━━━━━━━━━━━━━━━━━━━━━━━━━━━━━\u001b[0m \u001b[32m69.6/69.6 KB\u001b[0m \u001b[31m7.8 MB/s\u001b[0m eta \u001b[36m0:00:00\u001b[0m\n",
            "\u001b[?25hCollecting sniffio\n",
            "  Downloading sniffio-1.3.0-py3-none-any.whl (10 kB)\n",
            "Collecting rfc3986[idna2008]<2,>=1.3\n",
            "  Downloading rfc3986-1.5.0-py2.py3-none-any.whl (31 kB)\n",
            "Requirement already satisfied: fonttools>=4.22.0 in /usr/local/lib/python3.9/dist-packages (from matplotlib->gradio) (4.39.3)\n",
            "Requirement already satisfied: cycler>=0.10 in /usr/local/lib/python3.9/dist-packages (from matplotlib->gradio) (0.11.0)\n",
            "Requirement already satisfied: kiwisolver>=1.0.1 in /usr/local/lib/python3.9/dist-packages (from matplotlib->gradio) (1.4.4)\n",
            "Requirement already satisfied: importlib-resources>=3.2.0 in /usr/local/lib/python3.9/dist-packages (from matplotlib->gradio) (5.12.0)\n",
            "Requirement already satisfied: pyparsing>=2.3.1 in /usr/local/lib/python3.9/dist-packages (from matplotlib->gradio) (3.0.9)\n",
            "Requirement already satisfied: contourpy>=1.0.1 in /usr/local/lib/python3.9/dist-packages (from matplotlib->gradio) (1.0.7)\n",
            "Requirement already satisfied: idna<4,>=2.5 in /usr/local/lib/python3.9/dist-packages (from requests->gradio) (3.4)\n",
            "Requirement already satisfied: urllib3<1.27,>=1.21.1 in /usr/local/lib/python3.9/dist-packages (from requests->gradio) (1.26.15)\n",
            "Collecting h11>=0.8\n",
            "  Downloading h11-0.14.0-py3-none-any.whl (58 kB)\n",
            "\u001b[2K     \u001b[90m━━━━━━━━━━━━━━━━━━━━━━━━━━━━━━━━━━━━━━━━\u001b[0m \u001b[32m58.3/58.3 KB\u001b[0m \u001b[31m8.7 MB/s\u001b[0m eta \u001b[36m0:00:00\u001b[0m\n",
            "\u001b[?25hRequirement already satisfied: click>=7.0 in /usr/local/lib/python3.9/dist-packages (from uvicorn->gradio) (8.1.3)\n",
            "Collecting anyio<5.0,>=3.0\n",
            "  Downloading anyio-3.6.2-py3-none-any.whl (80 kB)\n",
            "\u001b[2K     \u001b[90m━━━━━━━━━━━━━━━━━━━━━━━━━━━━━━━━━━━━━━━━\u001b[0m \u001b[32m80.6/80.6 KB\u001b[0m \u001b[31m11.2 MB/s\u001b[0m eta \u001b[36m0:00:00\u001b[0m\n",
            "\u001b[?25hRequirement already satisfied: zipp>=3.1.0 in /usr/local/lib/python3.9/dist-packages (from importlib-resources>=3.2.0->matplotlib->gradio) (3.15.0)\n",
            "Requirement already satisfied: pyrsistent!=0.17.0,!=0.17.1,!=0.17.2,>=0.14.0 in /usr/local/lib/python3.9/dist-packages (from jsonschema>=3.0->altair>=4.2.0->gradio) (0.19.3)\n",
            "Collecting uc-micro-py\n",
            "  Downloading uc_micro_py-1.0.1-py3-none-any.whl (6.2 kB)\n",
            "Requirement already satisfied: six>=1.5 in /usr/local/lib/python3.9/dist-packages (from python-dateutil>=2.8.1->pandas->gradio) (1.16.0)\n",
            "Building wheels for collected packages: ffmpy\n",
            "  Building wheel for ffmpy (setup.py) ... \u001b[?25l\u001b[?25hdone\n",
            "  Created wheel for ffmpy: filename=ffmpy-0.3.0-py3-none-any.whl size=4707 sha256=6dab2e5cfc2888a0fa9773dbc61ab36dbd9b8ab977fe8e59712c309c95584b7e\n",
            "  Stored in directory: /root/.cache/pip/wheels/91/e2/96/f676aa08bfd789328c6576cd0f1fde4a3d686703bb0c247697\n",
            "Successfully built ffmpy\n",
            "Installing collected packages: rfc3986, pydub, ffmpy, websockets, uc-micro-py, sniffio, semantic-version, python-multipart, orjson, multidict, h11, frozenlist, async-timeout, aiofiles, yarl, uvicorn, mdit-py-plugins, linkify-it-py, huggingface-hub, anyio, aiosignal, starlette, httpcore, gradio-client, aiohttp, httpx, fastapi, gradio\n",
            "Successfully installed aiofiles-23.1.0 aiohttp-3.8.4 aiosignal-1.3.1 anyio-3.6.2 async-timeout-4.0.2 fastapi-0.95.0 ffmpy-0.3.0 frozenlist-1.3.3 gradio-3.24.1 gradio-client-0.0.5 h11-0.14.0 httpcore-0.16.3 httpx-0.23.3 huggingface-hub-0.13.3 linkify-it-py-2.0.0 mdit-py-plugins-0.3.3 multidict-6.0.4 orjson-3.8.9 pydub-0.25.1 python-multipart-0.0.6 rfc3986-1.5.0 semantic-version-2.10.0 sniffio-1.3.0 starlette-0.26.1 uc-micro-py-1.0.1 uvicorn-0.21.1 websockets-10.4 yarl-1.8.2\n"
          ]
        }
      ],
      "source": [
        "# I did this in google colab so if you don't have \n",
        "#  gradio and are using that and need to run it \n",
        "#  you can just uncomment this below\n",
        "# !pip install gradio"
      ]
    },
    {
      "cell_type": "code",
      "execution_count": 28,
      "metadata": {
        "colab": {
          "base_uri": "https://localhost:8080/",
          "height": 1000
        },
        "id": "IxIMj-hqm6g7",
        "outputId": "6293228b-e6c0-4ebc-8b48-c13b1af0af58"
      },
      "outputs": [
        {
          "name": "stdout",
          "output_type": "stream",
          "text": [
            "Colab notebook detected. This cell will run indefinitely so that you can see errors and logs. To turn off, set debug=False in launch().\n",
            "Note: opening Chrome Inspector may crash demo inside Colab notebooks.\n",
            "\n",
            "To create a public link, set `share=True` in `launch()`.\n"
          ]
        },
        {
          "data": {
            "application/javascript": "(async (port, path, width, height, cache, element) => {\n                        if (!google.colab.kernel.accessAllowed && !cache) {\n                            return;\n                        }\n                        element.appendChild(document.createTextNode(''));\n                        const url = await google.colab.kernel.proxyPort(port, {cache});\n\n                        const external_link = document.createElement('div');\n                        external_link.innerHTML = `\n                            <div style=\"font-family: monospace; margin-bottom: 0.5rem\">\n                                Running on <a href=${new URL(path, url).toString()} target=\"_blank\">\n                                    https://localhost:${port}${path}\n                                </a>\n                            </div>\n                        `;\n                        element.appendChild(external_link);\n\n                        const iframe = document.createElement('iframe');\n                        iframe.src = new URL(path, url).toString();\n                        iframe.height = height;\n                        iframe.allow = \"autoplay; camera; microphone; clipboard-read; clipboard-write;\"\n                        iframe.width = width;\n                        iframe.style.border = 0;\n                        element.appendChild(iframe);\n                    })(7860, \"/\", \"100%\", 500, false, window.element)",
            "text/plain": [
              "<IPython.core.display.Javascript object>"
            ]
          },
          "metadata": {},
          "output_type": "display_data"
        },
        {
          "name": "stderr",
          "output_type": "stream",
          "text": [
            "/usr/local/lib/python3.9/dist-packages/torch/nn/modules/container.py:204: UserWarning: Implicit dimension choice for softmax has been deprecated. Change the call to include dim=X as an argument.\n",
            "  input = module(input)\n"
          ]
        },
        {
          "name": "stdout",
          "output_type": "stream",
          "text": [
            "tensor([0.0000e+00, 6.9114e-35, 1.0000e+00, 0.0000e+00, 0.0000e+00, 0.0000e+00,\n",
            "        0.0000e+00, 0.0000e+00, 0.0000e+00, 0.0000e+00], device='cuda:0')\n"
          ]
        },
        {
          "name": "stderr",
          "output_type": "stream",
          "text": [
            "Traceback (most recent call last):\n",
            "  File \"/usr/local/lib/python3.9/dist-packages/gradio/routes.py\", line 393, in run_predict\n",
            "    output = await app.get_blocks().process_api(\n",
            "  File \"/usr/local/lib/python3.9/dist-packages/gradio/blocks.py\", line 1108, in process_api\n",
            "    result = await self.call_function(\n",
            "  File \"/usr/local/lib/python3.9/dist-packages/gradio/blocks.py\", line 915, in call_function\n",
            "    prediction = await anyio.to_thread.run_sync(\n",
            "  File \"/usr/local/lib/python3.9/dist-packages/anyio/to_thread.py\", line 31, in run_sync\n",
            "    return await get_asynclib().run_sync_in_worker_thread(\n",
            "  File \"/usr/local/lib/python3.9/dist-packages/anyio/_backends/_asyncio.py\", line 937, in run_sync_in_worker_thread\n",
            "    return await future\n",
            "  File \"/usr/local/lib/python3.9/dist-packages/anyio/_backends/_asyncio.py\", line 867, in run\n",
            "    result = context.run(func, *args)\n",
            "  File \"<ipython-input-28-feac6187686a>\", line 5, in do_thing\n",
            "    x = transforms(torch.tensor(img).float().view(1, 1, 28, 28)).to(model.device)\n",
            "RuntimeError: Could not infer dtype of NoneType\n",
            "/usr/local/lib/python3.9/dist-packages/torch/nn/modules/container.py:204: UserWarning: Implicit dimension choice for softmax has been deprecated. Change the call to include dim=X as an argument.\n",
            "  input = module(input)\n"
          ]
        },
        {
          "name": "stdout",
          "output_type": "stream",
          "text": [
            "tensor([0.0000e+00, 0.0000e+00, 0.0000e+00, 1.8121e-39, 0.0000e+00, 1.0000e+00,\n",
            "        1.7009e-24, 0.0000e+00, 4.4511e-27, 0.0000e+00], device='cuda:0')\n"
          ]
        },
        {
          "name": "stderr",
          "output_type": "stream",
          "text": [
            "Traceback (most recent call last):\n",
            "  File \"/usr/local/lib/python3.9/dist-packages/gradio/routes.py\", line 393, in run_predict\n",
            "    output = await app.get_blocks().process_api(\n",
            "  File \"/usr/local/lib/python3.9/dist-packages/gradio/blocks.py\", line 1108, in process_api\n",
            "    result = await self.call_function(\n",
            "  File \"/usr/local/lib/python3.9/dist-packages/gradio/blocks.py\", line 915, in call_function\n",
            "    prediction = await anyio.to_thread.run_sync(\n",
            "  File \"/usr/local/lib/python3.9/dist-packages/anyio/to_thread.py\", line 31, in run_sync\n",
            "    return await get_asynclib().run_sync_in_worker_thread(\n",
            "  File \"/usr/local/lib/python3.9/dist-packages/anyio/_backends/_asyncio.py\", line 937, in run_sync_in_worker_thread\n",
            "    return await future\n",
            "  File \"/usr/local/lib/python3.9/dist-packages/anyio/_backends/_asyncio.py\", line 867, in run\n",
            "    result = context.run(func, *args)\n",
            "  File \"<ipython-input-28-feac6187686a>\", line 5, in do_thing\n",
            "    x = transforms(torch.tensor(img).float().view(1, 1, 28, 28)).to(model.device)\n",
            "RuntimeError: Could not infer dtype of NoneType\n",
            "/usr/local/lib/python3.9/dist-packages/torch/nn/modules/container.py:204: UserWarning: Implicit dimension choice for softmax has been deprecated. Change the call to include dim=X as an argument.\n",
            "  input = module(input)\n"
          ]
        },
        {
          "name": "stdout",
          "output_type": "stream",
          "text": [
            "tensor([0., 0., 0., 0., 0., 1., 0., 0., 0., 0.], device='cuda:0')\n"
          ]
        },
        {
          "name": "stderr",
          "output_type": "stream",
          "text": [
            "Traceback (most recent call last):\n",
            "  File \"/usr/local/lib/python3.9/dist-packages/gradio/routes.py\", line 393, in run_predict\n",
            "    output = await app.get_blocks().process_api(\n",
            "  File \"/usr/local/lib/python3.9/dist-packages/gradio/blocks.py\", line 1108, in process_api\n",
            "    result = await self.call_function(\n",
            "  File \"/usr/local/lib/python3.9/dist-packages/gradio/blocks.py\", line 915, in call_function\n",
            "    prediction = await anyio.to_thread.run_sync(\n",
            "  File \"/usr/local/lib/python3.9/dist-packages/anyio/to_thread.py\", line 31, in run_sync\n",
            "    return await get_asynclib().run_sync_in_worker_thread(\n",
            "  File \"/usr/local/lib/python3.9/dist-packages/anyio/_backends/_asyncio.py\", line 937, in run_sync_in_worker_thread\n",
            "    return await future\n",
            "  File \"/usr/local/lib/python3.9/dist-packages/anyio/_backends/_asyncio.py\", line 867, in run\n",
            "    result = context.run(func, *args)\n",
            "  File \"<ipython-input-28-feac6187686a>\", line 5, in do_thing\n",
            "    x = transforms(torch.tensor(img).float().view(1, 1, 28, 28)).to(model.device)\n",
            "RuntimeError: Could not infer dtype of NoneType\n",
            "/usr/local/lib/python3.9/dist-packages/torch/nn/modules/container.py:204: UserWarning: Implicit dimension choice for softmax has been deprecated. Change the call to include dim=X as an argument.\n",
            "  input = module(input)\n"
          ]
        },
        {
          "name": "stdout",
          "output_type": "stream",
          "text": [
            "tensor([0.0000e+00, 1.0000e+00, 3.4491e-37, 6.6911e-39, 5.3190e-34, 4.1408e-42,\n",
            "        8.4078e-45, 1.9036e-40, 3.7429e-42, 0.0000e+00], device='cuda:0')\n"
          ]
        },
        {
          "name": "stderr",
          "output_type": "stream",
          "text": [
            "Traceback (most recent call last):\n",
            "  File \"/usr/local/lib/python3.9/dist-packages/gradio/routes.py\", line 393, in run_predict\n",
            "    output = await app.get_blocks().process_api(\n",
            "  File \"/usr/local/lib/python3.9/dist-packages/gradio/blocks.py\", line 1108, in process_api\n",
            "    result = await self.call_function(\n",
            "  File \"/usr/local/lib/python3.9/dist-packages/gradio/blocks.py\", line 915, in call_function\n",
            "    prediction = await anyio.to_thread.run_sync(\n",
            "  File \"/usr/local/lib/python3.9/dist-packages/anyio/to_thread.py\", line 31, in run_sync\n",
            "    return await get_asynclib().run_sync_in_worker_thread(\n",
            "  File \"/usr/local/lib/python3.9/dist-packages/anyio/_backends/_asyncio.py\", line 937, in run_sync_in_worker_thread\n",
            "    return await future\n",
            "  File \"/usr/local/lib/python3.9/dist-packages/anyio/_backends/_asyncio.py\", line 867, in run\n",
            "    result = context.run(func, *args)\n",
            "  File \"<ipython-input-28-feac6187686a>\", line 5, in do_thing\n",
            "    x = transforms(torch.tensor(img).float().view(1, 1, 28, 28)).to(model.device)\n",
            "RuntimeError: Could not infer dtype of NoneType\n",
            "/usr/local/lib/python3.9/dist-packages/torch/nn/modules/container.py:204: UserWarning: Implicit dimension choice for softmax has been deprecated. Change the call to include dim=X as an argument.\n",
            "  input = module(input)\n"
          ]
        },
        {
          "name": "stdout",
          "output_type": "stream",
          "text": [
            "tensor([1.0000e+00, 0.0000e+00, 4.8225e-32, 0.0000e+00, 0.0000e+00, 0.0000e+00,\n",
            "        0.0000e+00, 0.0000e+00, 0.0000e+00, 0.0000e+00], device='cuda:0')\n"
          ]
        },
        {
          "name": "stderr",
          "output_type": "stream",
          "text": [
            "Traceback (most recent call last):\n",
            "  File \"/usr/local/lib/python3.9/dist-packages/gradio/routes.py\", line 393, in run_predict\n",
            "    output = await app.get_blocks().process_api(\n",
            "  File \"/usr/local/lib/python3.9/dist-packages/gradio/blocks.py\", line 1108, in process_api\n",
            "    result = await self.call_function(\n",
            "  File \"/usr/local/lib/python3.9/dist-packages/gradio/blocks.py\", line 915, in call_function\n",
            "    prediction = await anyio.to_thread.run_sync(\n",
            "  File \"/usr/local/lib/python3.9/dist-packages/anyio/to_thread.py\", line 31, in run_sync\n",
            "    return await get_asynclib().run_sync_in_worker_thread(\n",
            "  File \"/usr/local/lib/python3.9/dist-packages/anyio/_backends/_asyncio.py\", line 937, in run_sync_in_worker_thread\n",
            "    return await future\n",
            "  File \"/usr/local/lib/python3.9/dist-packages/anyio/_backends/_asyncio.py\", line 867, in run\n",
            "    result = context.run(func, *args)\n",
            "  File \"<ipython-input-28-feac6187686a>\", line 5, in do_thing\n",
            "    x = transforms(torch.tensor(img).float().view(1, 1, 28, 28)).to(model.device)\n",
            "RuntimeError: Could not infer dtype of NoneType\n",
            "/usr/local/lib/python3.9/dist-packages/torch/nn/modules/container.py:204: UserWarning: Implicit dimension choice for softmax has been deprecated. Change the call to include dim=X as an argument.\n",
            "  input = module(input)\n"
          ]
        },
        {
          "name": "stdout",
          "output_type": "stream",
          "text": [
            "tensor([0.0000e+00, 0.0000e+00, 0.0000e+00, 0.0000e+00, 0.0000e+00, 9.6128e-16,\n",
            "        1.0000e+00, 0.0000e+00, 1.1542e-39, 0.0000e+00], device='cuda:0')\n"
          ]
        },
        {
          "name": "stderr",
          "output_type": "stream",
          "text": [
            "Traceback (most recent call last):\n",
            "  File \"/usr/local/lib/python3.9/dist-packages/gradio/routes.py\", line 393, in run_predict\n",
            "    output = await app.get_blocks().process_api(\n",
            "  File \"/usr/local/lib/python3.9/dist-packages/gradio/blocks.py\", line 1108, in process_api\n",
            "    result = await self.call_function(\n",
            "  File \"/usr/local/lib/python3.9/dist-packages/gradio/blocks.py\", line 915, in call_function\n",
            "    prediction = await anyio.to_thread.run_sync(\n",
            "  File \"/usr/local/lib/python3.9/dist-packages/anyio/to_thread.py\", line 31, in run_sync\n",
            "    return await get_asynclib().run_sync_in_worker_thread(\n",
            "  File \"/usr/local/lib/python3.9/dist-packages/anyio/_backends/_asyncio.py\", line 937, in run_sync_in_worker_thread\n",
            "    return await future\n",
            "  File \"/usr/local/lib/python3.9/dist-packages/anyio/_backends/_asyncio.py\", line 867, in run\n",
            "    result = context.run(func, *args)\n",
            "  File \"<ipython-input-28-feac6187686a>\", line 5, in do_thing\n",
            "    x = transforms(torch.tensor(img).float().view(1, 1, 28, 28)).to(model.device)\n",
            "RuntimeError: Could not infer dtype of NoneType\n",
            "/usr/local/lib/python3.9/dist-packages/torch/nn/modules/container.py:204: UserWarning: Implicit dimension choice for softmax has been deprecated. Change the call to include dim=X as an argument.\n",
            "  input = module(input)\n"
          ]
        },
        {
          "name": "stdout",
          "output_type": "stream",
          "text": [
            "tensor([2.3137e-11, 0.0000e+00, 2.3800e-34, 0.0000e+00, 0.0000e+00, 1.0000e+00,\n",
            "        5.7049e-18, 3.3854e-26, 0.0000e+00, 0.0000e+00], device='cuda:0')\n"
          ]
        },
        {
          "name": "stderr",
          "output_type": "stream",
          "text": [
            "Traceback (most recent call last):\n",
            "  File \"/usr/local/lib/python3.9/dist-packages/gradio/routes.py\", line 393, in run_predict\n",
            "    output = await app.get_blocks().process_api(\n",
            "  File \"/usr/local/lib/python3.9/dist-packages/gradio/blocks.py\", line 1108, in process_api\n",
            "    result = await self.call_function(\n",
            "  File \"/usr/local/lib/python3.9/dist-packages/gradio/blocks.py\", line 915, in call_function\n",
            "    prediction = await anyio.to_thread.run_sync(\n",
            "  File \"/usr/local/lib/python3.9/dist-packages/anyio/to_thread.py\", line 31, in run_sync\n",
            "    return await get_asynclib().run_sync_in_worker_thread(\n",
            "  File \"/usr/local/lib/python3.9/dist-packages/anyio/_backends/_asyncio.py\", line 937, in run_sync_in_worker_thread\n",
            "    return await future\n",
            "  File \"/usr/local/lib/python3.9/dist-packages/anyio/_backends/_asyncio.py\", line 867, in run\n",
            "    result = context.run(func, *args)\n",
            "  File \"<ipython-input-28-feac6187686a>\", line 5, in do_thing\n",
            "    x = transforms(torch.tensor(img).float().view(1, 1, 28, 28)).to(model.device)\n",
            "RuntimeError: Could not infer dtype of NoneType\n",
            "/usr/local/lib/python3.9/dist-packages/torch/nn/modules/container.py:204: UserWarning: Implicit dimension choice for softmax has been deprecated. Change the call to include dim=X as an argument.\n",
            "  input = module(input)\n"
          ]
        },
        {
          "name": "stdout",
          "output_type": "stream",
          "text": [
            "tensor([1.3022e-07, 1.5085e-14, 1.0000e+00, 6.2947e-31, 6.5760e-40, 2.5694e-07,\n",
            "        1.2611e-23, 1.5110e-19, 2.1653e-24, 2.9935e-40], device='cuda:0')\n"
          ]
        },
        {
          "name": "stderr",
          "output_type": "stream",
          "text": [
            "Traceback (most recent call last):\n",
            "  File \"/usr/local/lib/python3.9/dist-packages/gradio/routes.py\", line 393, in run_predict\n",
            "    output = await app.get_blocks().process_api(\n",
            "  File \"/usr/local/lib/python3.9/dist-packages/gradio/blocks.py\", line 1108, in process_api\n",
            "    result = await self.call_function(\n",
            "  File \"/usr/local/lib/python3.9/dist-packages/gradio/blocks.py\", line 915, in call_function\n",
            "    prediction = await anyio.to_thread.run_sync(\n",
            "  File \"/usr/local/lib/python3.9/dist-packages/anyio/to_thread.py\", line 31, in run_sync\n",
            "    return await get_asynclib().run_sync_in_worker_thread(\n",
            "  File \"/usr/local/lib/python3.9/dist-packages/anyio/_backends/_asyncio.py\", line 937, in run_sync_in_worker_thread\n",
            "    return await future\n",
            "  File \"/usr/local/lib/python3.9/dist-packages/anyio/_backends/_asyncio.py\", line 867, in run\n",
            "    result = context.run(func, *args)\n",
            "  File \"<ipython-input-28-feac6187686a>\", line 5, in do_thing\n",
            "    x = transforms(torch.tensor(img).float().view(1, 1, 28, 28)).to(model.device)\n",
            "RuntimeError: Could not infer dtype of NoneType\n",
            "/usr/local/lib/python3.9/dist-packages/torch/nn/modules/container.py:204: UserWarning: Implicit dimension choice for softmax has been deprecated. Change the call to include dim=X as an argument.\n",
            "  input = module(input)\n"
          ]
        },
        {
          "name": "stdout",
          "output_type": "stream",
          "text": [
            "tensor([0.0000e+00, 0.0000e+00, 0.0000e+00, 1.0516e-40, 0.0000e+00, 2.6030e-09,\n",
            "        9.9998e-01, 0.0000e+00, 2.3456e-05, 0.0000e+00], device='cuda:0')\n"
          ]
        },
        {
          "name": "stderr",
          "output_type": "stream",
          "text": [
            "Traceback (most recent call last):\n",
            "  File \"/usr/local/lib/python3.9/dist-packages/gradio/routes.py\", line 393, in run_predict\n",
            "    output = await app.get_blocks().process_api(\n",
            "  File \"/usr/local/lib/python3.9/dist-packages/gradio/blocks.py\", line 1108, in process_api\n",
            "    result = await self.call_function(\n",
            "  File \"/usr/local/lib/python3.9/dist-packages/gradio/blocks.py\", line 915, in call_function\n",
            "    prediction = await anyio.to_thread.run_sync(\n",
            "  File \"/usr/local/lib/python3.9/dist-packages/anyio/to_thread.py\", line 31, in run_sync\n",
            "    return await get_asynclib().run_sync_in_worker_thread(\n",
            "  File \"/usr/local/lib/python3.9/dist-packages/anyio/_backends/_asyncio.py\", line 937, in run_sync_in_worker_thread\n",
            "    return await future\n",
            "  File \"/usr/local/lib/python3.9/dist-packages/anyio/_backends/_asyncio.py\", line 867, in run\n",
            "    result = context.run(func, *args)\n",
            "  File \"<ipython-input-28-feac6187686a>\", line 5, in do_thing\n",
            "    x = transforms(torch.tensor(img).float().view(1, 1, 28, 28)).to(model.device)\n",
            "RuntimeError: Could not infer dtype of NoneType\n",
            "/usr/local/lib/python3.9/dist-packages/torch/nn/modules/container.py:204: UserWarning: Implicit dimension choice for softmax has been deprecated. Change the call to include dim=X as an argument.\n",
            "  input = module(input)\n"
          ]
        },
        {
          "name": "stdout",
          "output_type": "stream",
          "text": [
            "tensor([1.9272e-21, 0.0000e+00, 7.3332e-32, 4.1478e-43, 0.0000e+00, 1.0000e+00,\n",
            "        1.3588e-12, 0.0000e+00, 3.2123e-13, 4.7644e-44], device='cuda:0')\n"
          ]
        },
        {
          "name": "stderr",
          "output_type": "stream",
          "text": [
            "Traceback (most recent call last):\n",
            "  File \"/usr/local/lib/python3.9/dist-packages/gradio/routes.py\", line 393, in run_predict\n",
            "    output = await app.get_blocks().process_api(\n",
            "  File \"/usr/local/lib/python3.9/dist-packages/gradio/blocks.py\", line 1108, in process_api\n",
            "    result = await self.call_function(\n",
            "  File \"/usr/local/lib/python3.9/dist-packages/gradio/blocks.py\", line 915, in call_function\n",
            "    prediction = await anyio.to_thread.run_sync(\n",
            "  File \"/usr/local/lib/python3.9/dist-packages/anyio/to_thread.py\", line 31, in run_sync\n",
            "    return await get_asynclib().run_sync_in_worker_thread(\n",
            "  File \"/usr/local/lib/python3.9/dist-packages/anyio/_backends/_asyncio.py\", line 937, in run_sync_in_worker_thread\n",
            "    return await future\n",
            "  File \"/usr/local/lib/python3.9/dist-packages/anyio/_backends/_asyncio.py\", line 867, in run\n",
            "    result = context.run(func, *args)\n",
            "  File \"<ipython-input-28-feac6187686a>\", line 5, in do_thing\n",
            "    x = transforms(torch.tensor(img).float().view(1, 1, 28, 28)).to(model.device)\n",
            "RuntimeError: Could not infer dtype of NoneType\n",
            "/usr/local/lib/python3.9/dist-packages/torch/nn/modules/container.py:204: UserWarning: Implicit dimension choice for softmax has been deprecated. Change the call to include dim=X as an argument.\n",
            "  input = module(input)\n"
          ]
        },
        {
          "name": "stdout",
          "output_type": "stream",
          "text": [
            "tensor([8.5319e-04, 6.7202e-18, 9.4926e-20, 3.5822e-22, 2.0602e-18, 9.9915e-01,\n",
            "        5.0524e-09, 1.5416e-13, 3.8836e-14, 2.9089e-15], device='cuda:0')\n"
          ]
        },
        {
          "name": "stderr",
          "output_type": "stream",
          "text": [
            "/usr/local/lib/python3.9/dist-packages/torch/nn/modules/container.py:204: UserWarning: Implicit dimension choice for softmax has been deprecated. Change the call to include dim=X as an argument.\n",
            "  input = module(input)\n"
          ]
        },
        {
          "name": "stdout",
          "output_type": "stream",
          "text": [
            "tensor([1.0000e+00, 0.0000e+00, 2.6621e-34, 0.0000e+00, 0.0000e+00, 1.6040e-29,\n",
            "        7.4779e-10, 0.0000e+00, 0.0000e+00, 0.0000e+00], device='cuda:0')\n"
          ]
        },
        {
          "name": "stderr",
          "output_type": "stream",
          "text": [
            "Traceback (most recent call last):\n",
            "  File \"/usr/local/lib/python3.9/dist-packages/gradio/routes.py\", line 393, in run_predict\n",
            "    output = await app.get_blocks().process_api(\n",
            "  File \"/usr/local/lib/python3.9/dist-packages/gradio/blocks.py\", line 1108, in process_api\n",
            "    result = await self.call_function(\n",
            "  File \"/usr/local/lib/python3.9/dist-packages/gradio/blocks.py\", line 915, in call_function\n",
            "    prediction = await anyio.to_thread.run_sync(\n",
            "  File \"/usr/local/lib/python3.9/dist-packages/anyio/to_thread.py\", line 31, in run_sync\n",
            "    return await get_asynclib().run_sync_in_worker_thread(\n",
            "  File \"/usr/local/lib/python3.9/dist-packages/anyio/_backends/_asyncio.py\", line 937, in run_sync_in_worker_thread\n",
            "    return await future\n",
            "  File \"/usr/local/lib/python3.9/dist-packages/anyio/_backends/_asyncio.py\", line 867, in run\n",
            "    result = context.run(func, *args)\n",
            "  File \"<ipython-input-28-feac6187686a>\", line 5, in do_thing\n",
            "    x = transforms(torch.tensor(img).float().view(1, 1, 28, 28)).to(model.device)\n",
            "RuntimeError: Could not infer dtype of NoneType\n",
            "/usr/local/lib/python3.9/dist-packages/torch/nn/modules/container.py:204: UserWarning: Implicit dimension choice for softmax has been deprecated. Change the call to include dim=X as an argument.\n",
            "  input = module(input)\n"
          ]
        },
        {
          "name": "stdout",
          "output_type": "stream",
          "text": [
            "tensor([0., 0., 0., 0., 0., 0., 0., 0., 1., 0.], device='cuda:0')\n"
          ]
        },
        {
          "name": "stderr",
          "output_type": "stream",
          "text": [
            "Traceback (most recent call last):\n",
            "  File \"/usr/local/lib/python3.9/dist-packages/gradio/routes.py\", line 393, in run_predict\n",
            "    output = await app.get_blocks().process_api(\n",
            "  File \"/usr/local/lib/python3.9/dist-packages/gradio/blocks.py\", line 1108, in process_api\n",
            "    result = await self.call_function(\n",
            "  File \"/usr/local/lib/python3.9/dist-packages/gradio/blocks.py\", line 915, in call_function\n",
            "    prediction = await anyio.to_thread.run_sync(\n",
            "  File \"/usr/local/lib/python3.9/dist-packages/anyio/to_thread.py\", line 31, in run_sync\n",
            "    return await get_asynclib().run_sync_in_worker_thread(\n",
            "  File \"/usr/local/lib/python3.9/dist-packages/anyio/_backends/_asyncio.py\", line 937, in run_sync_in_worker_thread\n",
            "    return await future\n",
            "  File \"/usr/local/lib/python3.9/dist-packages/anyio/_backends/_asyncio.py\", line 867, in run\n",
            "    result = context.run(func, *args)\n",
            "  File \"<ipython-input-28-feac6187686a>\", line 5, in do_thing\n",
            "    x = transforms(torch.tensor(img).float().view(1, 1, 28, 28)).to(model.device)\n",
            "RuntimeError: Could not infer dtype of NoneType\n",
            "/usr/local/lib/python3.9/dist-packages/torch/nn/modules/container.py:204: UserWarning: Implicit dimension choice for softmax has been deprecated. Change the call to include dim=X as an argument.\n",
            "  input = module(input)\n"
          ]
        },
        {
          "name": "stdout",
          "output_type": "stream",
          "text": [
            "tensor([2.4753e-07, 1.0612e-08, 7.3972e-14, 6.4222e-15, 3.4810e-12, 9.9999e-01,\n",
            "        5.0541e-06, 9.0857e-07, 2.7514e-11, 5.5327e-10], device='cuda:0')\n"
          ]
        },
        {
          "name": "stderr",
          "output_type": "stream",
          "text": [
            "/usr/local/lib/python3.9/dist-packages/torch/nn/modules/container.py:204: UserWarning: Implicit dimension choice for softmax has been deprecated. Change the call to include dim=X as an argument.\n",
            "  input = module(input)\n"
          ]
        },
        {
          "name": "stdout",
          "output_type": "stream",
          "text": [
            "tensor([0.0000e+00, 1.5264e-21, 0.0000e+00, 1.8384e-38, 9.9931e-01, 1.3126e-31,\n",
            "        0.0000e+00, 4.2252e-30, 2.5236e-21, 6.8703e-04], device='cuda:0')\n"
          ]
        },
        {
          "name": "stderr",
          "output_type": "stream",
          "text": [
            "Traceback (most recent call last):\n",
            "  File \"/usr/local/lib/python3.9/dist-packages/gradio/routes.py\", line 393, in run_predict\n",
            "    output = await app.get_blocks().process_api(\n",
            "  File \"/usr/local/lib/python3.9/dist-packages/gradio/blocks.py\", line 1108, in process_api\n",
            "    result = await self.call_function(\n",
            "  File \"/usr/local/lib/python3.9/dist-packages/gradio/blocks.py\", line 915, in call_function\n",
            "    prediction = await anyio.to_thread.run_sync(\n",
            "  File \"/usr/local/lib/python3.9/dist-packages/anyio/to_thread.py\", line 31, in run_sync\n",
            "    return await get_asynclib().run_sync_in_worker_thread(\n",
            "  File \"/usr/local/lib/python3.9/dist-packages/anyio/_backends/_asyncio.py\", line 937, in run_sync_in_worker_thread\n",
            "    return await future\n",
            "  File \"/usr/local/lib/python3.9/dist-packages/anyio/_backends/_asyncio.py\", line 867, in run\n",
            "    result = context.run(func, *args)\n",
            "  File \"<ipython-input-28-feac6187686a>\", line 5, in do_thing\n",
            "    x = transforms(torch.tensor(img).float().view(1, 1, 28, 28)).to(model.device)\n",
            "RuntimeError: Could not infer dtype of NoneType\n",
            "/usr/local/lib/python3.9/dist-packages/torch/nn/modules/container.py:204: UserWarning: Implicit dimension choice for softmax has been deprecated. Change the call to include dim=X as an argument.\n",
            "  input = module(input)\n"
          ]
        },
        {
          "name": "stdout",
          "output_type": "stream",
          "text": [
            "tensor([0.0555, 0.3063, 0.2623, 0.0154, 0.0685, 0.0214, 0.0635, 0.0211, 0.1582,\n",
            "        0.0278], device='cuda:0')\n"
          ]
        },
        {
          "name": "stderr",
          "output_type": "stream",
          "text": [
            "/usr/local/lib/python3.9/dist-packages/torch/nn/modules/container.py:204: UserWarning: Implicit dimension choice for softmax has been deprecated. Change the call to include dim=X as an argument.\n",
            "  input = module(input)\n"
          ]
        },
        {
          "name": "stdout",
          "output_type": "stream",
          "text": [
            "tensor([1.2089e-06, 1.3378e-03, 3.2120e-07, 3.1402e-08, 9.5597e-08, 1.5254e-01,\n",
            "        8.4610e-01, 5.4757e-08, 2.2298e-05, 1.8165e-08], device='cuda:0')\n"
          ]
        },
        {
          "name": "stderr",
          "output_type": "stream",
          "text": [
            "/usr/local/lib/python3.9/dist-packages/torch/nn/modules/container.py:204: UserWarning: Implicit dimension choice for softmax has been deprecated. Change the call to include dim=X as an argument.\n",
            "  input = module(input)\n"
          ]
        },
        {
          "name": "stdout",
          "output_type": "stream",
          "text": [
            "tensor([1.6386e-16, 6.2287e-05, 1.4648e-06, 1.5471e-15, 5.3124e-14, 9.9845e-01,\n",
            "        1.4831e-03, 1.7342e-13, 1.0715e-23, 3.5777e-18], device='cuda:0')\n"
          ]
        },
        {
          "name": "stderr",
          "output_type": "stream",
          "text": [
            "/usr/local/lib/python3.9/dist-packages/torch/nn/modules/container.py:204: UserWarning: Implicit dimension choice for softmax has been deprecated. Change the call to include dim=X as an argument.\n",
            "  input = module(input)\n"
          ]
        },
        {
          "name": "stdout",
          "output_type": "stream",
          "text": [
            "tensor([2.1572e-16, 1.2885e-04, 2.0924e-04, 9.2710e-15, 9.3284e-13, 9.9957e-01,\n",
            "        9.6220e-05, 1.2420e-11, 1.9374e-24, 5.8198e-17], device='cuda:0')\n"
          ]
        },
        {
          "name": "stderr",
          "output_type": "stream",
          "text": [
            "/usr/local/lib/python3.9/dist-packages/torch/nn/modules/container.py:204: UserWarning: Implicit dimension choice for softmax has been deprecated. Change the call to include dim=X as an argument.\n",
            "  input = module(input)\n"
          ]
        },
        {
          "name": "stdout",
          "output_type": "stream",
          "text": [
            "tensor([9.9852e-01, 8.6339e-28, 3.2519e-20, 2.4962e-38, 1.0647e-25, 5.9705e-21,\n",
            "        1.4773e-03, 1.3424e-32, 4.1347e-23, 1.0721e-40], device='cuda:0')\n",
            "Keyboard interruption in main thread... closing server.\n"
          ]
        },
        {
          "data": {
            "text/plain": []
          },
          "execution_count": 28,
          "metadata": {},
          "output_type": "execute_result"
        }
      ],
      "source": [
        "import gradio as gr\n",
        "\n",
        "def do_thing(img):\n",
        "    transforms = Compose([Normalize((0.1307,), (0.3081,))])\n",
        "    x = transforms(torch.tensor(img).float().view(1, 1, 28, 28)).to(model.device)\n",
        "    with torch.no_grad():\n",
        "        out = model.forward(x)\n",
        "    out = out.view(10)\n",
        "    print(out)\n",
        "    labels = ['0','1','2','3','4','5','6','7','8','9']\n",
        "    confidences = {labels[i]: v.item() for i, v in enumerate(out)}\n",
        "    return confidences\n",
        "\n",
        "gr.Interface(fn=do_thing, \n",
        "             inputs=\"sketchpad\",\n",
        "             outputs=\"label\",\n",
        "             live=True).launch(debug=True)"
      ]
    }
  ],
  "metadata": {
    "accelerator": "GPU",
    "colab": {
      "provenance": []
    },
    "gpuClass": "standard",
    "kernelspec": {
      "display_name": "Python 3.10.10 64-bit",
      "language": "python",
      "name": "python3"
    },
    "language_info": {
      "codemirror_mode": {
        "name": "ipython",
        "version": 3
      },
      "file_extension": ".py",
      "mimetype": "text/x-python",
      "name": "python",
      "nbconvert_exporter": "python",
      "pygments_lexer": "ipython3",
      "version": "3.10.10"
    },
    "orig_nbformat": 4,
    "vscode": {
      "interpreter": {
        "hash": "78f5b707d86fd9281530b9fa2dbdbe1b33232c3b651a8e052360c651d4996094"
      }
    },
    "widgets": {
      "application/vnd.jupyter.widget-state+json": {
        "025210af0d0a46a9b36f74d6d9bd2a44": {
          "model_module": "@jupyter-widgets/controls",
          "model_module_version": "1.5.0",
          "model_name": "HTMLModel",
          "state": {
            "_dom_classes": [],
            "_model_module": "@jupyter-widgets/controls",
            "_model_module_version": "1.5.0",
            "_model_name": "HTMLModel",
            "_view_count": null,
            "_view_module": "@jupyter-widgets/controls",
            "_view_module_version": "1.5.0",
            "_view_name": "HTMLView",
            "description": "",
            "description_tooltip": null,
            "layout": "IPY_MODEL_2ac77ea5ba004de98b3f2d4e9346ca90",
            "placeholder": "​",
            "style": "IPY_MODEL_6181661712114d4baa4b6b7329809299",
            "value": " 28881/28881 [00:00&lt;00:00, 980482.68it/s]"
          }
        },
        "056bac4f6781480cb98a567cf1725a84": {
          "model_module": "@jupyter-widgets/base",
          "model_module_version": "1.2.0",
          "model_name": "LayoutModel",
          "state": {
            "_model_module": "@jupyter-widgets/base",
            "_model_module_version": "1.2.0",
            "_model_name": "LayoutModel",
            "_view_count": null,
            "_view_module": "@jupyter-widgets/base",
            "_view_module_version": "1.2.0",
            "_view_name": "LayoutView",
            "align_content": null,
            "align_items": null,
            "align_self": null,
            "border": null,
            "bottom": null,
            "display": null,
            "flex": null,
            "flex_flow": null,
            "grid_area": null,
            "grid_auto_columns": null,
            "grid_auto_flow": null,
            "grid_auto_rows": null,
            "grid_column": null,
            "grid_gap": null,
            "grid_row": null,
            "grid_template_areas": null,
            "grid_template_columns": null,
            "grid_template_rows": null,
            "height": null,
            "justify_content": null,
            "justify_items": null,
            "left": null,
            "margin": null,
            "max_height": null,
            "max_width": null,
            "min_height": null,
            "min_width": null,
            "object_fit": null,
            "object_position": null,
            "order": null,
            "overflow": null,
            "overflow_x": null,
            "overflow_y": null,
            "padding": null,
            "right": null,
            "top": null,
            "visibility": null,
            "width": null
          }
        },
        "0b77c9fd35304fcba22fa767e869deb4": {
          "model_module": "@jupyter-widgets/controls",
          "model_module_version": "1.5.0",
          "model_name": "HBoxModel",
          "state": {
            "_dom_classes": [],
            "_model_module": "@jupyter-widgets/controls",
            "_model_module_version": "1.5.0",
            "_model_name": "HBoxModel",
            "_view_count": null,
            "_view_module": "@jupyter-widgets/controls",
            "_view_module_version": "1.5.0",
            "_view_name": "HBoxView",
            "box_style": "",
            "children": [
              "IPY_MODEL_a8cce20c2fb94008b97285aabb717d66",
              "IPY_MODEL_e713d135b8754ca29734d22c61712dba",
              "IPY_MODEL_c9b2844419564a3abddd81fbe38af0e1"
            ],
            "layout": "IPY_MODEL_ba59fe3f1b5e4a1cafc40e5285ffd0ff"
          }
        },
        "0d551b9cd0084b3cb56b2c49a0c6d576": {
          "model_module": "@jupyter-widgets/base",
          "model_module_version": "1.2.0",
          "model_name": "LayoutModel",
          "state": {
            "_model_module": "@jupyter-widgets/base",
            "_model_module_version": "1.2.0",
            "_model_name": "LayoutModel",
            "_view_count": null,
            "_view_module": "@jupyter-widgets/base",
            "_view_module_version": "1.2.0",
            "_view_name": "LayoutView",
            "align_content": null,
            "align_items": null,
            "align_self": null,
            "border": null,
            "bottom": null,
            "display": null,
            "flex": null,
            "flex_flow": null,
            "grid_area": null,
            "grid_auto_columns": null,
            "grid_auto_flow": null,
            "grid_auto_rows": null,
            "grid_column": null,
            "grid_gap": null,
            "grid_row": null,
            "grid_template_areas": null,
            "grid_template_columns": null,
            "grid_template_rows": null,
            "height": null,
            "justify_content": null,
            "justify_items": null,
            "left": null,
            "margin": null,
            "max_height": null,
            "max_width": null,
            "min_height": null,
            "min_width": null,
            "object_fit": null,
            "object_position": null,
            "order": null,
            "overflow": null,
            "overflow_x": null,
            "overflow_y": null,
            "padding": null,
            "right": null,
            "top": null,
            "visibility": null,
            "width": null
          }
        },
        "11e0577a09b845a18a2e8b8a46a08dfc": {
          "model_module": "@jupyter-widgets/base",
          "model_module_version": "1.2.0",
          "model_name": "LayoutModel",
          "state": {
            "_model_module": "@jupyter-widgets/base",
            "_model_module_version": "1.2.0",
            "_model_name": "LayoutModel",
            "_view_count": null,
            "_view_module": "@jupyter-widgets/base",
            "_view_module_version": "1.2.0",
            "_view_name": "LayoutView",
            "align_content": null,
            "align_items": null,
            "align_self": null,
            "border": null,
            "bottom": null,
            "display": null,
            "flex": null,
            "flex_flow": null,
            "grid_area": null,
            "grid_auto_columns": null,
            "grid_auto_flow": null,
            "grid_auto_rows": null,
            "grid_column": null,
            "grid_gap": null,
            "grid_row": null,
            "grid_template_areas": null,
            "grid_template_columns": null,
            "grid_template_rows": null,
            "height": null,
            "justify_content": null,
            "justify_items": null,
            "left": null,
            "margin": null,
            "max_height": null,
            "max_width": null,
            "min_height": null,
            "min_width": null,
            "object_fit": null,
            "object_position": null,
            "order": null,
            "overflow": null,
            "overflow_x": null,
            "overflow_y": null,
            "padding": null,
            "right": null,
            "top": null,
            "visibility": null,
            "width": null
          }
        },
        "13e5fd776ad9478cbf2668a8c3d5ac0b": {
          "model_module": "@jupyter-widgets/controls",
          "model_module_version": "1.5.0",
          "model_name": "HBoxModel",
          "state": {
            "_dom_classes": [],
            "_model_module": "@jupyter-widgets/controls",
            "_model_module_version": "1.5.0",
            "_model_name": "HBoxModel",
            "_view_count": null,
            "_view_module": "@jupyter-widgets/controls",
            "_view_module_version": "1.5.0",
            "_view_name": "HBoxView",
            "box_style": "",
            "children": [
              "IPY_MODEL_9a30781f9ea9463d9762c0250821f766",
              "IPY_MODEL_7182f3aec8a245c1bac5eb8d341d7dcc",
              "IPY_MODEL_4d393d67c53b4fdbb10927136915ffca"
            ],
            "layout": "IPY_MODEL_5c471c7411a94ebaaf86d7c529993eea"
          }
        },
        "1e8a087122974a76bf931cb80e4efbd8": {
          "model_module": "@jupyter-widgets/controls",
          "model_module_version": "1.5.0",
          "model_name": "HTMLModel",
          "state": {
            "_dom_classes": [],
            "_model_module": "@jupyter-widgets/controls",
            "_model_module_version": "1.5.0",
            "_model_name": "HTMLModel",
            "_view_count": null,
            "_view_module": "@jupyter-widgets/controls",
            "_view_module_version": "1.5.0",
            "_view_name": "HTMLView",
            "description": "",
            "description_tooltip": null,
            "layout": "IPY_MODEL_4021c77fc23c43adb5a5e610d7de333f",
            "placeholder": "​",
            "style": "IPY_MODEL_22f4312a98e045469b079ac32d4d061a",
            "value": "100%"
          }
        },
        "22f4312a98e045469b079ac32d4d061a": {
          "model_module": "@jupyter-widgets/controls",
          "model_module_version": "1.5.0",
          "model_name": "DescriptionStyleModel",
          "state": {
            "_model_module": "@jupyter-widgets/controls",
            "_model_module_version": "1.5.0",
            "_model_name": "DescriptionStyleModel",
            "_view_count": null,
            "_view_module": "@jupyter-widgets/base",
            "_view_module_version": "1.2.0",
            "_view_name": "StyleView",
            "description_width": ""
          }
        },
        "2ac77ea5ba004de98b3f2d4e9346ca90": {
          "model_module": "@jupyter-widgets/base",
          "model_module_version": "1.2.0",
          "model_name": "LayoutModel",
          "state": {
            "_model_module": "@jupyter-widgets/base",
            "_model_module_version": "1.2.0",
            "_model_name": "LayoutModel",
            "_view_count": null,
            "_view_module": "@jupyter-widgets/base",
            "_view_module_version": "1.2.0",
            "_view_name": "LayoutView",
            "align_content": null,
            "align_items": null,
            "align_self": null,
            "border": null,
            "bottom": null,
            "display": null,
            "flex": null,
            "flex_flow": null,
            "grid_area": null,
            "grid_auto_columns": null,
            "grid_auto_flow": null,
            "grid_auto_rows": null,
            "grid_column": null,
            "grid_gap": null,
            "grid_row": null,
            "grid_template_areas": null,
            "grid_template_columns": null,
            "grid_template_rows": null,
            "height": null,
            "justify_content": null,
            "justify_items": null,
            "left": null,
            "margin": null,
            "max_height": null,
            "max_width": null,
            "min_height": null,
            "min_width": null,
            "object_fit": null,
            "object_position": null,
            "order": null,
            "overflow": null,
            "overflow_x": null,
            "overflow_y": null,
            "padding": null,
            "right": null,
            "top": null,
            "visibility": null,
            "width": null
          }
        },
        "397bbd2d8bd648068b81b8aec1168816": {
          "model_module": "@jupyter-widgets/controls",
          "model_module_version": "1.5.0",
          "model_name": "HBoxModel",
          "state": {
            "_dom_classes": [],
            "_model_module": "@jupyter-widgets/controls",
            "_model_module_version": "1.5.0",
            "_model_name": "HBoxModel",
            "_view_count": null,
            "_view_module": "@jupyter-widgets/controls",
            "_view_module_version": "1.5.0",
            "_view_name": "HBoxView",
            "box_style": "",
            "children": [
              "IPY_MODEL_1e8a087122974a76bf931cb80e4efbd8",
              "IPY_MODEL_b9073389fa6a41c6bdf623dffc2b7179",
              "IPY_MODEL_025210af0d0a46a9b36f74d6d9bd2a44"
            ],
            "layout": "IPY_MODEL_4625a5272fde4754a991c5e7c635830c"
          }
        },
        "3c421607647b4b44b78104390a2cf119": {
          "model_module": "@jupyter-widgets/controls",
          "model_module_version": "1.5.0",
          "model_name": "DescriptionStyleModel",
          "state": {
            "_model_module": "@jupyter-widgets/controls",
            "_model_module_version": "1.5.0",
            "_model_name": "DescriptionStyleModel",
            "_view_count": null,
            "_view_module": "@jupyter-widgets/base",
            "_view_module_version": "1.2.0",
            "_view_name": "StyleView",
            "description_width": ""
          }
        },
        "3ea6489b6ca84fc7acb4427e1e1465ae": {
          "model_module": "@jupyter-widgets/base",
          "model_module_version": "1.2.0",
          "model_name": "LayoutModel",
          "state": {
            "_model_module": "@jupyter-widgets/base",
            "_model_module_version": "1.2.0",
            "_model_name": "LayoutModel",
            "_view_count": null,
            "_view_module": "@jupyter-widgets/base",
            "_view_module_version": "1.2.0",
            "_view_name": "LayoutView",
            "align_content": null,
            "align_items": null,
            "align_self": null,
            "border": null,
            "bottom": null,
            "display": null,
            "flex": null,
            "flex_flow": null,
            "grid_area": null,
            "grid_auto_columns": null,
            "grid_auto_flow": null,
            "grid_auto_rows": null,
            "grid_column": null,
            "grid_gap": null,
            "grid_row": null,
            "grid_template_areas": null,
            "grid_template_columns": null,
            "grid_template_rows": null,
            "height": null,
            "justify_content": null,
            "justify_items": null,
            "left": null,
            "margin": null,
            "max_height": null,
            "max_width": null,
            "min_height": null,
            "min_width": null,
            "object_fit": null,
            "object_position": null,
            "order": null,
            "overflow": null,
            "overflow_x": null,
            "overflow_y": null,
            "padding": null,
            "right": null,
            "top": null,
            "visibility": null,
            "width": null
          }
        },
        "4021c77fc23c43adb5a5e610d7de333f": {
          "model_module": "@jupyter-widgets/base",
          "model_module_version": "1.2.0",
          "model_name": "LayoutModel",
          "state": {
            "_model_module": "@jupyter-widgets/base",
            "_model_module_version": "1.2.0",
            "_model_name": "LayoutModel",
            "_view_count": null,
            "_view_module": "@jupyter-widgets/base",
            "_view_module_version": "1.2.0",
            "_view_name": "LayoutView",
            "align_content": null,
            "align_items": null,
            "align_self": null,
            "border": null,
            "bottom": null,
            "display": null,
            "flex": null,
            "flex_flow": null,
            "grid_area": null,
            "grid_auto_columns": null,
            "grid_auto_flow": null,
            "grid_auto_rows": null,
            "grid_column": null,
            "grid_gap": null,
            "grid_row": null,
            "grid_template_areas": null,
            "grid_template_columns": null,
            "grid_template_rows": null,
            "height": null,
            "justify_content": null,
            "justify_items": null,
            "left": null,
            "margin": null,
            "max_height": null,
            "max_width": null,
            "min_height": null,
            "min_width": null,
            "object_fit": null,
            "object_position": null,
            "order": null,
            "overflow": null,
            "overflow_x": null,
            "overflow_y": null,
            "padding": null,
            "right": null,
            "top": null,
            "visibility": null,
            "width": null
          }
        },
        "4625a5272fde4754a991c5e7c635830c": {
          "model_module": "@jupyter-widgets/base",
          "model_module_version": "1.2.0",
          "model_name": "LayoutModel",
          "state": {
            "_model_module": "@jupyter-widgets/base",
            "_model_module_version": "1.2.0",
            "_model_name": "LayoutModel",
            "_view_count": null,
            "_view_module": "@jupyter-widgets/base",
            "_view_module_version": "1.2.0",
            "_view_name": "LayoutView",
            "align_content": null,
            "align_items": null,
            "align_self": null,
            "border": null,
            "bottom": null,
            "display": null,
            "flex": null,
            "flex_flow": null,
            "grid_area": null,
            "grid_auto_columns": null,
            "grid_auto_flow": null,
            "grid_auto_rows": null,
            "grid_column": null,
            "grid_gap": null,
            "grid_row": null,
            "grid_template_areas": null,
            "grid_template_columns": null,
            "grid_template_rows": null,
            "height": null,
            "justify_content": null,
            "justify_items": null,
            "left": null,
            "margin": null,
            "max_height": null,
            "max_width": null,
            "min_height": null,
            "min_width": null,
            "object_fit": null,
            "object_position": null,
            "order": null,
            "overflow": null,
            "overflow_x": null,
            "overflow_y": null,
            "padding": null,
            "right": null,
            "top": null,
            "visibility": null,
            "width": null
          }
        },
        "4c350cb165ac472f92280fe95f0c5071": {
          "model_module": "@jupyter-widgets/base",
          "model_module_version": "1.2.0",
          "model_name": "LayoutModel",
          "state": {
            "_model_module": "@jupyter-widgets/base",
            "_model_module_version": "1.2.0",
            "_model_name": "LayoutModel",
            "_view_count": null,
            "_view_module": "@jupyter-widgets/base",
            "_view_module_version": "1.2.0",
            "_view_name": "LayoutView",
            "align_content": null,
            "align_items": null,
            "align_self": null,
            "border": null,
            "bottom": null,
            "display": null,
            "flex": null,
            "flex_flow": null,
            "grid_area": null,
            "grid_auto_columns": null,
            "grid_auto_flow": null,
            "grid_auto_rows": null,
            "grid_column": null,
            "grid_gap": null,
            "grid_row": null,
            "grid_template_areas": null,
            "grid_template_columns": null,
            "grid_template_rows": null,
            "height": null,
            "justify_content": null,
            "justify_items": null,
            "left": null,
            "margin": null,
            "max_height": null,
            "max_width": null,
            "min_height": null,
            "min_width": null,
            "object_fit": null,
            "object_position": null,
            "order": null,
            "overflow": null,
            "overflow_x": null,
            "overflow_y": null,
            "padding": null,
            "right": null,
            "top": null,
            "visibility": null,
            "width": null
          }
        },
        "4d393d67c53b4fdbb10927136915ffca": {
          "model_module": "@jupyter-widgets/controls",
          "model_module_version": "1.5.0",
          "model_name": "HTMLModel",
          "state": {
            "_dom_classes": [],
            "_model_module": "@jupyter-widgets/controls",
            "_model_module_version": "1.5.0",
            "_model_name": "HTMLModel",
            "_view_count": null,
            "_view_module": "@jupyter-widgets/controls",
            "_view_module_version": "1.5.0",
            "_view_name": "HTMLView",
            "description": "",
            "description_tooltip": null,
            "layout": "IPY_MODEL_056bac4f6781480cb98a567cf1725a84",
            "placeholder": "​",
            "style": "IPY_MODEL_fc7a10343f1e4c129f913c2273ac6bde",
            "value": " 4542/4542 [00:00&lt;00:00, 133505.23it/s]"
          }
        },
        "5c471c7411a94ebaaf86d7c529993eea": {
          "model_module": "@jupyter-widgets/base",
          "model_module_version": "1.2.0",
          "model_name": "LayoutModel",
          "state": {
            "_model_module": "@jupyter-widgets/base",
            "_model_module_version": "1.2.0",
            "_model_name": "LayoutModel",
            "_view_count": null,
            "_view_module": "@jupyter-widgets/base",
            "_view_module_version": "1.2.0",
            "_view_name": "LayoutView",
            "align_content": null,
            "align_items": null,
            "align_self": null,
            "border": null,
            "bottom": null,
            "display": null,
            "flex": null,
            "flex_flow": null,
            "grid_area": null,
            "grid_auto_columns": null,
            "grid_auto_flow": null,
            "grid_auto_rows": null,
            "grid_column": null,
            "grid_gap": null,
            "grid_row": null,
            "grid_template_areas": null,
            "grid_template_columns": null,
            "grid_template_rows": null,
            "height": null,
            "justify_content": null,
            "justify_items": null,
            "left": null,
            "margin": null,
            "max_height": null,
            "max_width": null,
            "min_height": null,
            "min_width": null,
            "object_fit": null,
            "object_position": null,
            "order": null,
            "overflow": null,
            "overflow_x": null,
            "overflow_y": null,
            "padding": null,
            "right": null,
            "top": null,
            "visibility": null,
            "width": null
          }
        },
        "6181661712114d4baa4b6b7329809299": {
          "model_module": "@jupyter-widgets/controls",
          "model_module_version": "1.5.0",
          "model_name": "DescriptionStyleModel",
          "state": {
            "_model_module": "@jupyter-widgets/controls",
            "_model_module_version": "1.5.0",
            "_model_name": "DescriptionStyleModel",
            "_view_count": null,
            "_view_module": "@jupyter-widgets/base",
            "_view_module_version": "1.2.0",
            "_view_name": "StyleView",
            "description_width": ""
          }
        },
        "64c2590bda5d4e23a9d0db462474447e": {
          "model_module": "@jupyter-widgets/controls",
          "model_module_version": "1.5.0",
          "model_name": "DescriptionStyleModel",
          "state": {
            "_model_module": "@jupyter-widgets/controls",
            "_model_module_version": "1.5.0",
            "_model_name": "DescriptionStyleModel",
            "_view_count": null,
            "_view_module": "@jupyter-widgets/base",
            "_view_module_version": "1.2.0",
            "_view_name": "StyleView",
            "description_width": ""
          }
        },
        "6c7aba21a1df41eaa4bf3e6a13f141b8": {
          "model_module": "@jupyter-widgets/controls",
          "model_module_version": "1.5.0",
          "model_name": "ProgressStyleModel",
          "state": {
            "_model_module": "@jupyter-widgets/controls",
            "_model_module_version": "1.5.0",
            "_model_name": "ProgressStyleModel",
            "_view_count": null,
            "_view_module": "@jupyter-widgets/base",
            "_view_module_version": "1.2.0",
            "_view_name": "StyleView",
            "bar_color": null,
            "description_width": ""
          }
        },
        "7182f3aec8a245c1bac5eb8d341d7dcc": {
          "model_module": "@jupyter-widgets/controls",
          "model_module_version": "1.5.0",
          "model_name": "FloatProgressModel",
          "state": {
            "_dom_classes": [],
            "_model_module": "@jupyter-widgets/controls",
            "_model_module_version": "1.5.0",
            "_model_name": "FloatProgressModel",
            "_view_count": null,
            "_view_module": "@jupyter-widgets/controls",
            "_view_module_version": "1.5.0",
            "_view_name": "ProgressView",
            "bar_style": "success",
            "description": "",
            "description_tooltip": null,
            "layout": "IPY_MODEL_767fac3b863c419bbade55c5e6973a89",
            "max": 4542,
            "min": 0,
            "orientation": "horizontal",
            "style": "IPY_MODEL_6c7aba21a1df41eaa4bf3e6a13f141b8",
            "value": 4542
          }
        },
        "767fac3b863c419bbade55c5e6973a89": {
          "model_module": "@jupyter-widgets/base",
          "model_module_version": "1.2.0",
          "model_name": "LayoutModel",
          "state": {
            "_model_module": "@jupyter-widgets/base",
            "_model_module_version": "1.2.0",
            "_model_name": "LayoutModel",
            "_view_count": null,
            "_view_module": "@jupyter-widgets/base",
            "_view_module_version": "1.2.0",
            "_view_name": "LayoutView",
            "align_content": null,
            "align_items": null,
            "align_self": null,
            "border": null,
            "bottom": null,
            "display": null,
            "flex": null,
            "flex_flow": null,
            "grid_area": null,
            "grid_auto_columns": null,
            "grid_auto_flow": null,
            "grid_auto_rows": null,
            "grid_column": null,
            "grid_gap": null,
            "grid_row": null,
            "grid_template_areas": null,
            "grid_template_columns": null,
            "grid_template_rows": null,
            "height": null,
            "justify_content": null,
            "justify_items": null,
            "left": null,
            "margin": null,
            "max_height": null,
            "max_width": null,
            "min_height": null,
            "min_width": null,
            "object_fit": null,
            "object_position": null,
            "order": null,
            "overflow": null,
            "overflow_x": null,
            "overflow_y": null,
            "padding": null,
            "right": null,
            "top": null,
            "visibility": null,
            "width": null
          }
        },
        "7727dead158e401cae755fb9706a6a71": {
          "model_module": "@jupyter-widgets/controls",
          "model_module_version": "1.5.0",
          "model_name": "FloatProgressModel",
          "state": {
            "_dom_classes": [],
            "_model_module": "@jupyter-widgets/controls",
            "_model_module_version": "1.5.0",
            "_model_name": "FloatProgressModel",
            "_view_count": null,
            "_view_module": "@jupyter-widgets/controls",
            "_view_module_version": "1.5.0",
            "_view_name": "ProgressView",
            "bar_style": "success",
            "description": "",
            "description_tooltip": null,
            "layout": "IPY_MODEL_854152ac8c9141478404fdbcbac5e8e8",
            "max": 1648877,
            "min": 0,
            "orientation": "horizontal",
            "style": "IPY_MODEL_95866c6f10bf47d29531b1e2d739d1ac",
            "value": 1648877
          }
        },
        "850b7fb7640741479a7defe6cac82f19": {
          "model_module": "@jupyter-widgets/base",
          "model_module_version": "1.2.0",
          "model_name": "LayoutModel",
          "state": {
            "_model_module": "@jupyter-widgets/base",
            "_model_module_version": "1.2.0",
            "_model_name": "LayoutModel",
            "_view_count": null,
            "_view_module": "@jupyter-widgets/base",
            "_view_module_version": "1.2.0",
            "_view_name": "LayoutView",
            "align_content": null,
            "align_items": null,
            "align_self": null,
            "border": null,
            "bottom": null,
            "display": null,
            "flex": null,
            "flex_flow": null,
            "grid_area": null,
            "grid_auto_columns": null,
            "grid_auto_flow": null,
            "grid_auto_rows": null,
            "grid_column": null,
            "grid_gap": null,
            "grid_row": null,
            "grid_template_areas": null,
            "grid_template_columns": null,
            "grid_template_rows": null,
            "height": null,
            "justify_content": null,
            "justify_items": null,
            "left": null,
            "margin": null,
            "max_height": null,
            "max_width": null,
            "min_height": null,
            "min_width": null,
            "object_fit": null,
            "object_position": null,
            "order": null,
            "overflow": null,
            "overflow_x": null,
            "overflow_y": null,
            "padding": null,
            "right": null,
            "top": null,
            "visibility": null,
            "width": null
          }
        },
        "852fa96e234c41caa5cae294f3e27327": {
          "model_module": "@jupyter-widgets/controls",
          "model_module_version": "1.5.0",
          "model_name": "ProgressStyleModel",
          "state": {
            "_model_module": "@jupyter-widgets/controls",
            "_model_module_version": "1.5.0",
            "_model_name": "ProgressStyleModel",
            "_view_count": null,
            "_view_module": "@jupyter-widgets/base",
            "_view_module_version": "1.2.0",
            "_view_name": "StyleView",
            "bar_color": null,
            "description_width": ""
          }
        },
        "854152ac8c9141478404fdbcbac5e8e8": {
          "model_module": "@jupyter-widgets/base",
          "model_module_version": "1.2.0",
          "model_name": "LayoutModel",
          "state": {
            "_model_module": "@jupyter-widgets/base",
            "_model_module_version": "1.2.0",
            "_model_name": "LayoutModel",
            "_view_count": null,
            "_view_module": "@jupyter-widgets/base",
            "_view_module_version": "1.2.0",
            "_view_name": "LayoutView",
            "align_content": null,
            "align_items": null,
            "align_self": null,
            "border": null,
            "bottom": null,
            "display": null,
            "flex": null,
            "flex_flow": null,
            "grid_area": null,
            "grid_auto_columns": null,
            "grid_auto_flow": null,
            "grid_auto_rows": null,
            "grid_column": null,
            "grid_gap": null,
            "grid_row": null,
            "grid_template_areas": null,
            "grid_template_columns": null,
            "grid_template_rows": null,
            "height": null,
            "justify_content": null,
            "justify_items": null,
            "left": null,
            "margin": null,
            "max_height": null,
            "max_width": null,
            "min_height": null,
            "min_width": null,
            "object_fit": null,
            "object_position": null,
            "order": null,
            "overflow": null,
            "overflow_x": null,
            "overflow_y": null,
            "padding": null,
            "right": null,
            "top": null,
            "visibility": null,
            "width": null
          }
        },
        "95866c6f10bf47d29531b1e2d739d1ac": {
          "model_module": "@jupyter-widgets/controls",
          "model_module_version": "1.5.0",
          "model_name": "ProgressStyleModel",
          "state": {
            "_model_module": "@jupyter-widgets/controls",
            "_model_module_version": "1.5.0",
            "_model_name": "ProgressStyleModel",
            "_view_count": null,
            "_view_module": "@jupyter-widgets/base",
            "_view_module_version": "1.2.0",
            "_view_name": "StyleView",
            "bar_color": null,
            "description_width": ""
          }
        },
        "9812b242361244159bd0fc308fe09e14": {
          "model_module": "@jupyter-widgets/controls",
          "model_module_version": "1.5.0",
          "model_name": "HTMLModel",
          "state": {
            "_dom_classes": [],
            "_model_module": "@jupyter-widgets/controls",
            "_model_module_version": "1.5.0",
            "_model_name": "HTMLModel",
            "_view_count": null,
            "_view_module": "@jupyter-widgets/controls",
            "_view_module_version": "1.5.0",
            "_view_name": "HTMLView",
            "description": "",
            "description_tooltip": null,
            "layout": "IPY_MODEL_9eb4a00d70ca4f83b39055dba35ae9b9",
            "placeholder": "​",
            "style": "IPY_MODEL_3c421607647b4b44b78104390a2cf119",
            "value": " 1648877/1648877 [00:00&lt;00:00, 39324330.73it/s]"
          }
        },
        "9a30781f9ea9463d9762c0250821f766": {
          "model_module": "@jupyter-widgets/controls",
          "model_module_version": "1.5.0",
          "model_name": "HTMLModel",
          "state": {
            "_dom_classes": [],
            "_model_module": "@jupyter-widgets/controls",
            "_model_module_version": "1.5.0",
            "_model_name": "HTMLModel",
            "_view_count": null,
            "_view_module": "@jupyter-widgets/controls",
            "_view_module_version": "1.5.0",
            "_view_name": "HTMLView",
            "description": "",
            "description_tooltip": null,
            "layout": "IPY_MODEL_4c350cb165ac472f92280fe95f0c5071",
            "placeholder": "​",
            "style": "IPY_MODEL_cb86bd72e14d4783a38afd9fa8b39d9a",
            "value": "100%"
          }
        },
        "9eb4a00d70ca4f83b39055dba35ae9b9": {
          "model_module": "@jupyter-widgets/base",
          "model_module_version": "1.2.0",
          "model_name": "LayoutModel",
          "state": {
            "_model_module": "@jupyter-widgets/base",
            "_model_module_version": "1.2.0",
            "_model_name": "LayoutModel",
            "_view_count": null,
            "_view_module": "@jupyter-widgets/base",
            "_view_module_version": "1.2.0",
            "_view_name": "LayoutView",
            "align_content": null,
            "align_items": null,
            "align_self": null,
            "border": null,
            "bottom": null,
            "display": null,
            "flex": null,
            "flex_flow": null,
            "grid_area": null,
            "grid_auto_columns": null,
            "grid_auto_flow": null,
            "grid_auto_rows": null,
            "grid_column": null,
            "grid_gap": null,
            "grid_row": null,
            "grid_template_areas": null,
            "grid_template_columns": null,
            "grid_template_rows": null,
            "height": null,
            "justify_content": null,
            "justify_items": null,
            "left": null,
            "margin": null,
            "max_height": null,
            "max_width": null,
            "min_height": null,
            "min_width": null,
            "object_fit": null,
            "object_position": null,
            "order": null,
            "overflow": null,
            "overflow_x": null,
            "overflow_y": null,
            "padding": null,
            "right": null,
            "top": null,
            "visibility": null,
            "width": null
          }
        },
        "a8cce20c2fb94008b97285aabb717d66": {
          "model_module": "@jupyter-widgets/controls",
          "model_module_version": "1.5.0",
          "model_name": "HTMLModel",
          "state": {
            "_dom_classes": [],
            "_model_module": "@jupyter-widgets/controls",
            "_model_module_version": "1.5.0",
            "_model_name": "HTMLModel",
            "_view_count": null,
            "_view_module": "@jupyter-widgets/controls",
            "_view_module_version": "1.5.0",
            "_view_name": "HTMLView",
            "description": "",
            "description_tooltip": null,
            "layout": "IPY_MODEL_f02bc9fdf96d48cca86bc23ef2dd5756",
            "placeholder": "​",
            "style": "IPY_MODEL_cb260cd1465c4b0d815617aed550d85a",
            "value": "100%"
          }
        },
        "b420816609c24c54ad1c930387053b62": {
          "model_module": "@jupyter-widgets/controls",
          "model_module_version": "1.5.0",
          "model_name": "HTMLModel",
          "state": {
            "_dom_classes": [],
            "_model_module": "@jupyter-widgets/controls",
            "_model_module_version": "1.5.0",
            "_model_name": "HTMLModel",
            "_view_count": null,
            "_view_module": "@jupyter-widgets/controls",
            "_view_module_version": "1.5.0",
            "_view_name": "HTMLView",
            "description": "",
            "description_tooltip": null,
            "layout": "IPY_MODEL_d9d5d4ad020f4728b3e2cdef43ea0166",
            "placeholder": "​",
            "style": "IPY_MODEL_b8ba7e15be7846d690b1b54dc3fef625",
            "value": "100%"
          }
        },
        "b8ba7e15be7846d690b1b54dc3fef625": {
          "model_module": "@jupyter-widgets/controls",
          "model_module_version": "1.5.0",
          "model_name": "DescriptionStyleModel",
          "state": {
            "_model_module": "@jupyter-widgets/controls",
            "_model_module_version": "1.5.0",
            "_model_name": "DescriptionStyleModel",
            "_view_count": null,
            "_view_module": "@jupyter-widgets/base",
            "_view_module_version": "1.2.0",
            "_view_name": "StyleView",
            "description_width": ""
          }
        },
        "b9073389fa6a41c6bdf623dffc2b7179": {
          "model_module": "@jupyter-widgets/controls",
          "model_module_version": "1.5.0",
          "model_name": "FloatProgressModel",
          "state": {
            "_dom_classes": [],
            "_model_module": "@jupyter-widgets/controls",
            "_model_module_version": "1.5.0",
            "_model_name": "FloatProgressModel",
            "_view_count": null,
            "_view_module": "@jupyter-widgets/controls",
            "_view_module_version": "1.5.0",
            "_view_name": "ProgressView",
            "bar_style": "success",
            "description": "",
            "description_tooltip": null,
            "layout": "IPY_MODEL_11e0577a09b845a18a2e8b8a46a08dfc",
            "max": 28881,
            "min": 0,
            "orientation": "horizontal",
            "style": "IPY_MODEL_852fa96e234c41caa5cae294f3e27327",
            "value": 28881
          }
        },
        "ba59fe3f1b5e4a1cafc40e5285ffd0ff": {
          "model_module": "@jupyter-widgets/base",
          "model_module_version": "1.2.0",
          "model_name": "LayoutModel",
          "state": {
            "_model_module": "@jupyter-widgets/base",
            "_model_module_version": "1.2.0",
            "_model_name": "LayoutModel",
            "_view_count": null,
            "_view_module": "@jupyter-widgets/base",
            "_view_module_version": "1.2.0",
            "_view_name": "LayoutView",
            "align_content": null,
            "align_items": null,
            "align_self": null,
            "border": null,
            "bottom": null,
            "display": null,
            "flex": null,
            "flex_flow": null,
            "grid_area": null,
            "grid_auto_columns": null,
            "grid_auto_flow": null,
            "grid_auto_rows": null,
            "grid_column": null,
            "grid_gap": null,
            "grid_row": null,
            "grid_template_areas": null,
            "grid_template_columns": null,
            "grid_template_rows": null,
            "height": null,
            "justify_content": null,
            "justify_items": null,
            "left": null,
            "margin": null,
            "max_height": null,
            "max_width": null,
            "min_height": null,
            "min_width": null,
            "object_fit": null,
            "object_position": null,
            "order": null,
            "overflow": null,
            "overflow_x": null,
            "overflow_y": null,
            "padding": null,
            "right": null,
            "top": null,
            "visibility": null,
            "width": null
          }
        },
        "c1736306f04046b5812c369d02b21c23": {
          "model_module": "@jupyter-widgets/controls",
          "model_module_version": "1.5.0",
          "model_name": "ProgressStyleModel",
          "state": {
            "_model_module": "@jupyter-widgets/controls",
            "_model_module_version": "1.5.0",
            "_model_name": "ProgressStyleModel",
            "_view_count": null,
            "_view_module": "@jupyter-widgets/base",
            "_view_module_version": "1.2.0",
            "_view_name": "StyleView",
            "bar_color": null,
            "description_width": ""
          }
        },
        "c9b2844419564a3abddd81fbe38af0e1": {
          "model_module": "@jupyter-widgets/controls",
          "model_module_version": "1.5.0",
          "model_name": "HTMLModel",
          "state": {
            "_dom_classes": [],
            "_model_module": "@jupyter-widgets/controls",
            "_model_module_version": "1.5.0",
            "_model_name": "HTMLModel",
            "_view_count": null,
            "_view_module": "@jupyter-widgets/controls",
            "_view_module_version": "1.5.0",
            "_view_name": "HTMLView",
            "description": "",
            "description_tooltip": null,
            "layout": "IPY_MODEL_3ea6489b6ca84fc7acb4427e1e1465ae",
            "placeholder": "​",
            "style": "IPY_MODEL_64c2590bda5d4e23a9d0db462474447e",
            "value": " 9912422/9912422 [00:00&lt;00:00, 111567421.65it/s]"
          }
        },
        "cb260cd1465c4b0d815617aed550d85a": {
          "model_module": "@jupyter-widgets/controls",
          "model_module_version": "1.5.0",
          "model_name": "DescriptionStyleModel",
          "state": {
            "_model_module": "@jupyter-widgets/controls",
            "_model_module_version": "1.5.0",
            "_model_name": "DescriptionStyleModel",
            "_view_count": null,
            "_view_module": "@jupyter-widgets/base",
            "_view_module_version": "1.2.0",
            "_view_name": "StyleView",
            "description_width": ""
          }
        },
        "cb86bd72e14d4783a38afd9fa8b39d9a": {
          "model_module": "@jupyter-widgets/controls",
          "model_module_version": "1.5.0",
          "model_name": "DescriptionStyleModel",
          "state": {
            "_model_module": "@jupyter-widgets/controls",
            "_model_module_version": "1.5.0",
            "_model_name": "DescriptionStyleModel",
            "_view_count": null,
            "_view_module": "@jupyter-widgets/base",
            "_view_module_version": "1.2.0",
            "_view_name": "StyleView",
            "description_width": ""
          }
        },
        "d9d5d4ad020f4728b3e2cdef43ea0166": {
          "model_module": "@jupyter-widgets/base",
          "model_module_version": "1.2.0",
          "model_name": "LayoutModel",
          "state": {
            "_model_module": "@jupyter-widgets/base",
            "_model_module_version": "1.2.0",
            "_model_name": "LayoutModel",
            "_view_count": null,
            "_view_module": "@jupyter-widgets/base",
            "_view_module_version": "1.2.0",
            "_view_name": "LayoutView",
            "align_content": null,
            "align_items": null,
            "align_self": null,
            "border": null,
            "bottom": null,
            "display": null,
            "flex": null,
            "flex_flow": null,
            "grid_area": null,
            "grid_auto_columns": null,
            "grid_auto_flow": null,
            "grid_auto_rows": null,
            "grid_column": null,
            "grid_gap": null,
            "grid_row": null,
            "grid_template_areas": null,
            "grid_template_columns": null,
            "grid_template_rows": null,
            "height": null,
            "justify_content": null,
            "justify_items": null,
            "left": null,
            "margin": null,
            "max_height": null,
            "max_width": null,
            "min_height": null,
            "min_width": null,
            "object_fit": null,
            "object_position": null,
            "order": null,
            "overflow": null,
            "overflow_x": null,
            "overflow_y": null,
            "padding": null,
            "right": null,
            "top": null,
            "visibility": null,
            "width": null
          }
        },
        "e713d135b8754ca29734d22c61712dba": {
          "model_module": "@jupyter-widgets/controls",
          "model_module_version": "1.5.0",
          "model_name": "FloatProgressModel",
          "state": {
            "_dom_classes": [],
            "_model_module": "@jupyter-widgets/controls",
            "_model_module_version": "1.5.0",
            "_model_name": "FloatProgressModel",
            "_view_count": null,
            "_view_module": "@jupyter-widgets/controls",
            "_view_module_version": "1.5.0",
            "_view_name": "ProgressView",
            "bar_style": "success",
            "description": "",
            "description_tooltip": null,
            "layout": "IPY_MODEL_850b7fb7640741479a7defe6cac82f19",
            "max": 9912422,
            "min": 0,
            "orientation": "horizontal",
            "style": "IPY_MODEL_c1736306f04046b5812c369d02b21c23",
            "value": 9912422
          }
        },
        "f02bc9fdf96d48cca86bc23ef2dd5756": {
          "model_module": "@jupyter-widgets/base",
          "model_module_version": "1.2.0",
          "model_name": "LayoutModel",
          "state": {
            "_model_module": "@jupyter-widgets/base",
            "_model_module_version": "1.2.0",
            "_model_name": "LayoutModel",
            "_view_count": null,
            "_view_module": "@jupyter-widgets/base",
            "_view_module_version": "1.2.0",
            "_view_name": "LayoutView",
            "align_content": null,
            "align_items": null,
            "align_self": null,
            "border": null,
            "bottom": null,
            "display": null,
            "flex": null,
            "flex_flow": null,
            "grid_area": null,
            "grid_auto_columns": null,
            "grid_auto_flow": null,
            "grid_auto_rows": null,
            "grid_column": null,
            "grid_gap": null,
            "grid_row": null,
            "grid_template_areas": null,
            "grid_template_columns": null,
            "grid_template_rows": null,
            "height": null,
            "justify_content": null,
            "justify_items": null,
            "left": null,
            "margin": null,
            "max_height": null,
            "max_width": null,
            "min_height": null,
            "min_width": null,
            "object_fit": null,
            "object_position": null,
            "order": null,
            "overflow": null,
            "overflow_x": null,
            "overflow_y": null,
            "padding": null,
            "right": null,
            "top": null,
            "visibility": null,
            "width": null
          }
        },
        "f2214833eb504c6096f51c429b6e1559": {
          "model_module": "@jupyter-widgets/controls",
          "model_module_version": "1.5.0",
          "model_name": "HBoxModel",
          "state": {
            "_dom_classes": [],
            "_model_module": "@jupyter-widgets/controls",
            "_model_module_version": "1.5.0",
            "_model_name": "HBoxModel",
            "_view_count": null,
            "_view_module": "@jupyter-widgets/controls",
            "_view_module_version": "1.5.0",
            "_view_name": "HBoxView",
            "box_style": "",
            "children": [
              "IPY_MODEL_b420816609c24c54ad1c930387053b62",
              "IPY_MODEL_7727dead158e401cae755fb9706a6a71",
              "IPY_MODEL_9812b242361244159bd0fc308fe09e14"
            ],
            "layout": "IPY_MODEL_0d551b9cd0084b3cb56b2c49a0c6d576"
          }
        },
        "fc7a10343f1e4c129f913c2273ac6bde": {
          "model_module": "@jupyter-widgets/controls",
          "model_module_version": "1.5.0",
          "model_name": "DescriptionStyleModel",
          "state": {
            "_model_module": "@jupyter-widgets/controls",
            "_model_module_version": "1.5.0",
            "_model_name": "DescriptionStyleModel",
            "_view_count": null,
            "_view_module": "@jupyter-widgets/base",
            "_view_module_version": "1.2.0",
            "_view_name": "StyleView",
            "description_width": ""
          }
        }
      }
    }
  },
  "nbformat": 4,
  "nbformat_minor": 0
}
